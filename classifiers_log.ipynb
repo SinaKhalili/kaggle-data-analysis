{
 "cells": [
  {
   "cell_type": "code",
   "execution_count": 153,
   "metadata": {},
   "outputs": [],
   "source": [
    "import os\n",
    "import json\n",
    "\n",
    "import pandas as pd\n",
    "import numpy as np\n",
    "import matplotlib.pyplot as plt\n",
    "import seaborn as sns"
   ]
  },
  {
   "cell_type": "code",
   "execution_count": 51,
   "metadata": {},
   "outputs": [],
   "source": [
    "# Remember to install sklearn with\n",
    "# pip install -U scikit-learn\n",
    "import sklearn"
   ]
  },
  {
   "cell_type": "markdown",
   "metadata": {},
   "source": [
    "Cleaned of building_id, manager_id, photos columns.\n",
    "<br></br>\n",
    "Cleaned of latitude, longitude, and price outliers.\n",
    "<br></br>\n",
    "<b>Use this formula for multi-class logarithmic loss:</b>\n",
    "<br></br>\n",
    "https://www.kaggle.com/c/two-sigma-connect-rental-listing-inquiries/overview/evaluation "
   ]
  },
  {
   "cell_type": "code",
   "execution_count": 52,
   "metadata": {},
   "outputs": [],
   "source": [
    "df = pd.read_json('cleaned_train.json')\n",
    "#df.head()"
   ]
  },
  {
   "cell_type": "markdown",
   "metadata": {},
   "source": [
    "https://www.datacamp.com/community/tutorials/understanding-logistic-regression-python\n",
    "<br></br>\n",
    "Need to split features into feature variables (independent) and target variables (dependent)"
   ]
  },
  {
   "cell_type": "code",
   "execution_count": 164,
   "metadata": {},
   "outputs": [],
   "source": [
    "#Features, need to drop non-numerical columns\n",
    "#can use .unique() function for better modelling\n",
    "features_for_logreg = ['bathrooms','bedrooms','latitude','longitude','listing_id','price','Special Characters','Numbers','StopWord','Uppercase']\n",
    "df_x = df[features_for_logreg]\n",
    "\n",
    "#Target\n",
    "df_y = df['interest_level']"
   ]
  },
  {
   "cell_type": "code",
   "execution_count": 134,
   "metadata": {},
   "outputs": [],
   "source": [
    "#CAN IMPROVE ACCURACY WITH K NEAREST NEIGHBOURS, CUTTING DOWN NUMBER OF ENTRIES\n",
    "#https://www.ritchieng.com/machine-learning-cross-validation/\n",
    "from sklearn.model_selection import train_test_split, cross_val_score, cross_val_predict\n",
    "from sklearn.linear_model import LogisticRegressionCV\n",
    "from sklearn import metrics\n",
    "from sklearn import datasets"
   ]
  },
  {
   "cell_type": "code",
   "execution_count": 135,
   "metadata": {},
   "outputs": [],
   "source": [
    "#clf = LogisticRegressionCV(cv=5,random_state=0).fit(df_x,df_y)"
   ]
  },
  {
   "cell_type": "code",
   "execution_count": 136,
   "metadata": {},
   "outputs": [],
   "source": [
    "prediction = cross_val_predict(LogisticRegression(),df_x,df_y,cv=5)"
   ]
  },
  {
   "cell_type": "code",
   "execution_count": 137,
   "metadata": {},
   "outputs": [
    {
     "name": "stdout",
     "output_type": "stream",
     "text": [
      "0.6929915784751535\n"
     ]
    },
    {
     "name": "stderr",
     "output_type": "stream",
     "text": [
      "/Library/Frameworks/Python.framework/Versions/3.7/lib/python3.7/site-packages/sklearn/metrics/_classification.py:1272: UndefinedMetricWarning: Precision and F-score are ill-defined and being set to 0.0 in labels with no predicted samples. Use `zero_division` parameter to control this behavior.\n",
      "  _warn_prf(average, modifier, msg_start, len(result))\n"
     ]
    },
    {
     "name": "stdout",
     "output_type": "stream",
     "text": [
      "              precision    recall  f1-score   support\n",
      "\n",
      "        high       0.00      0.00      0.00      3836\n",
      "         low       0.69      1.00      0.82     33987\n",
      "      medium       0.00      0.00      0.00     11218\n",
      "\n",
      "    accuracy                           0.69     49041\n",
      "   macro avg       0.23      0.33      0.27     49041\n",
      "weighted avg       0.48      0.69      0.57     49041\n",
      "\n"
     ]
    }
   ],
   "source": [
    "print(metrics.accuracy_score(df_y,prediction))\n",
    "print(metrics.classification_report(df_y,prediction,zero_division='warn'))"
   ]
  },
  {
   "cell_type": "code",
   "execution_count": 141,
   "metadata": {},
   "outputs": [
    {
     "name": "stdout",
     "output_type": "stream",
     "text": [
      "[0.69293506 0.69300571 0.69290375 0.69300571 0.69310767]\n"
     ]
    }
   ],
   "source": [
    "scores = cross_val_score(LogisticRegression(),df_x,df_y,cv=5,scoring='accuracy')\n",
    "print(scores)"
   ]
  },
  {
   "cell_type": "code",
   "execution_count": 142,
   "metadata": {},
   "outputs": [
    {
     "name": "stdout",
     "output_type": "stream",
     "text": [
      "0.6929915796276582\n"
     ]
    }
   ],
   "source": [
    "print(scores.mean())"
   ]
  },
  {
   "cell_type": "code",
   "execution_count": 146,
   "metadata": {},
   "outputs": [
    {
     "name": "stdout",
     "output_type": "stream",
     "text": [
      "['low' 'low' 'low' ... 'low' 'low' 'low']\n"
     ]
    }
   ],
   "source": [
    "predict = cross_val_predict(LogisticRegression(),df_x,df_y,cv=5)\n",
    "print(predict)"
   ]
  },
  {
   "cell_type": "code",
   "execution_count": 147,
   "metadata": {},
   "outputs": [],
   "source": [
    "#DATACAMP TUTORIAL"
   ]
  },
  {
   "cell_type": "code",
   "execution_count": 169,
   "metadata": {},
   "outputs": [
    {
     "data": {
      "text/plain": [
       "array([[    0,  3836,     0],\n",
       "       [    0, 33985,     2],\n",
       "       [    0, 11218,     0]])"
      ]
     },
     "execution_count": 169,
     "metadata": {},
     "output_type": "execute_result"
    }
   ],
   "source": [
    "#x_train,x_test,y_train,y_test = train_test_split(df_x,df_y,test_size=0.25,random_state=0)\n",
    "logreg=LogisticRegression()\n",
    "#logreg.fit(x_train,y_train)\n",
    "#y_pred=logreg.predict(x_test)\n",
    "predict = cross_val_predict(logreg,df_x,df_y,cv=5)\n",
    "predict.shape\n",
    "confusion_matrix = metrics.confusion_matrix(df_y,predict)\n",
    "confusion_matrix"
   ]
  },
  {
   "cell_type": "code",
   "execution_count": 173,
   "metadata": {},
   "outputs": [
    {
     "data": {
      "text/plain": [
       "Text(0.5, 257.44, 'Predicted label')"
      ]
     },
     "execution_count": 173,
     "metadata": {},
     "output_type": "execute_result"
    },
    {
     "data": {
      "image/png": "[encoded data removed]",
      "text/plain": [
       "<Figure size 432x288 with 2 Axes>"
      ]
     },
     "metadata": {
      "needs_background": "light"
     },
     "output_type": "display_data"
    }
   ],
   "source": [
    "class_names=['low','medium','high']\n",
    "fig,ax = plt.subplots()\n",
    "tick_marks=np.arange(len(class_names))\n",
    "plt.xticks(tick_marks,class_names)\n",
    "plt.yticks(tick_marks,class_names)\n",
    "sns.heatmap(pd.DataFrame(confusion_matrix),annot=True,cmap='YlGnBu',fmt='g')\n",
    "ax.xaxis.set_label_position(\"top\")\n",
    "plt.tight_layout()\n",
    "plt.title('Confusion Matrix')\n",
    "plt.ylabel('Actual label')\n",
    "plt.xlabel('Predicted label')"
   ]
  },
  {
   "cell_type": "code",
   "execution_count": 172,
   "metadata": {},
   "outputs": [
    {
     "name": "stdout",
     "output_type": "stream",
     "text": [
      "Accuracy: 0.6929915784751535\n",
      "Precision: 0.6929915784751535\n",
      "Recall: 0.6929915784751535\n"
     ]
    }
   ],
   "source": [
    "print(\"Accuracy:\",metrics.accuracy_score(df_y, predict))\n",
    "print(\"Precision:\",metrics.precision_score(df_y, predict,average='micro'))\n",
    "print(\"Recall:\",metrics.recall_score(df_y, predict,average='micro'))"
   ]
  },
  {
   "cell_type": "code",
   "execution_count": null,
   "metadata": {},
   "outputs": [],
   "source": []
  }
 ],
 "metadata": {
  "kernelspec": {
   "display_name": "Python 3",
   "language": "python",
   "name": "python3"
  },
  "language_info": {
   "codemirror_mode": {
    "name": "ipython",
    "version": 3
   },
   "file_extension": ".py",
   "mimetype": "text/x-python",
   "name": "python",
   "nbconvert_exporter": "python",
   "pygments_lexer": "ipython3",
   "version": "3.7.4"
  }
 },
 "nbformat": 4,
 "nbformat_minor": 4
}
