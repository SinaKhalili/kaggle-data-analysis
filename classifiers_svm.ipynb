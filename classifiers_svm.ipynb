{
 "cells": [
  {
   "cell_type": "code",
   "execution_count": 1,
   "metadata": {},
   "outputs": [],
   "source": [
    "import os\n",
    "import json\n",
    "\n",
    "import pandas as pd\n",
    "import numpy as np\n",
    "import matplotlib.pyplot as plt\n",
    "%matplotlib inline\n"
   ]
  },
  {
   "cell_type": "code",
   "execution_count": 2,
   "metadata": {},
   "outputs": [],
   "source": [
    "# Remember to install sklearn with\n",
    "# pip install -U scikit-learn\n",
    "\n",
    "import sklearn"
   ]
  },
  {
   "cell_type": "code",
   "execution_count": 19,
   "metadata": {},
   "outputs": [],
   "source": [
    "features = [\n",
    "    'bathrooms', \n",
    "    'bedrooms', \n",
    "    'latitude', \n",
    "    'longitude', \n",
    "    'price',\n",
    "    'Special Characters',\n",
    "    'Numbers', \n",
    "    'StopWord',\n",
    "    'Uppercase',\n",
    "]"
   ]
  },
  {
   "cell_type": "code",
   "execution_count": 3,
   "metadata": {},
   "outputs": [],
   "source": [
    "df = pd.read_json('cleaned_train.json')"
   ]
  },
  {
   "cell_type": "code",
   "execution_count": 4,
   "metadata": {},
   "outputs": [],
   "source": [
    "df_X = df.drop('interest_level', axis=1)\n",
    "df_y = df['interest_level']"
   ]
  },
  {
   "cell_type": "code",
   "execution_count": 5,
   "metadata": {},
   "outputs": [],
   "source": [
    "df_X = df.drop('interest_level', axis=1)\n",
    "df_X = df_X.drop('description', axis=1)\n",
    "df_X = df_X.drop('display_address', axis=1)\n",
    "df_X = df_X.drop('street_address', axis=1)\n",
    "df_X = df_X.drop('features', axis=1)\n",
    "df_X = df_X.drop('created', axis=1)\n",
    "df_X = df_X.drop('listing_id', axis=1)"
   ]
  },
  {
   "cell_type": "code",
   "execution_count": 6,
   "metadata": {},
   "outputs": [
    {
     "data": {
      "text/plain": [
       "KFold(n_splits=5, random_state=None, shuffle=False)"
      ]
     },
     "execution_count": 6,
     "metadata": {},
     "output_type": "execute_result"
    }
   ],
   "source": [
    "from sklearn.model_selection import KFold # import KFold\n",
    "\n",
    "kf = KFold(n_splits=5) # Define the split - into 5 folds \n",
    "kf.get_n_splits(df_X) # returns the number of splitting iterations in the cross-validator\n",
    "\n",
    "KFold(n_splits=5, random_state=None, shuffle=False)"
   ]
  },
  {
   "cell_type": "code",
   "execution_count": 7,
   "metadata": {},
   "outputs": [],
   "source": [
    "# Necessary imports: \n",
    "from sklearn.model_selection import cross_val_score, cross_val_predict\n",
    "from sklearn import metrics\n",
    "from sklearn import svm\n",
    "\n",
    "from sklearn.model_selection import train_test_split"
   ]
  },
  {
   "cell_type": "code",
   "execution_count": 8,
   "metadata": {},
   "outputs": [],
   "source": [
    "clf = svm.SVC(kernel='linear', C=1)"
   ]
  },
  {
   "cell_type": "code",
   "execution_count": 9,
   "metadata": {},
   "outputs": [],
   "source": [
    "#scores = cross_val_score(clf, df_X, df_y, cv=5)"
   ]
  },
  {
   "cell_type": "markdown",
   "metadata": {},
   "source": [
    "Decision tree"
   ]
  },
  {
   "cell_type": "code",
   "execution_count": 10,
   "metadata": {},
   "outputs": [
    {
     "name": "stderr",
     "output_type": "stream",
     "text": [
      "/home/sina/CMPT459/env/lib/python3.8/site-packages/sklearn/externals/six.py:28: FutureWarning: The module is deprecated in version 0.21 and will be removed in version 0.23 since we've dropped support for Python 2.7. Please rely on the official version of six (https://pypi.org/project/six/).\n",
      "  warnings.warn(\"The module is deprecated in version 0.21 and will be removed \"\n"
     ]
    }
   ],
   "source": [
    "from sklearn.tree import DecisionTreeClassifier\n",
    "from sklearn.model_selection import train_test_split\n",
    "from sklearn.metrics import confusion_matrix\n",
    "from sklearn.tree import export_graphviz\n",
    "from sklearn.externals.six import StringIO \n",
    "from IPython.display import Image \n",
    "from pydot import graph_from_dot_data\n",
    "import pandas as pd\n",
    "import numpy as np"
   ]
  },
  {
   "cell_type": "code",
   "execution_count": 11,
   "metadata": {},
   "outputs": [],
   "source": [
    "df_y2 = pd.get_dummies(df_y)"
   ]
  },
  {
   "cell_type": "code",
   "execution_count": 12,
   "metadata": {},
   "outputs": [],
   "source": [
    "X_train, X_test, y_train, y_test = train_test_split(df_X, df_y2, random_state=1)"
   ]
  },
  {
   "cell_type": "code",
   "execution_count": 13,
   "metadata": {},
   "outputs": [
    {
     "data": {
      "text/plain": [
       "DecisionTreeClassifier(ccp_alpha=0.0, class_weight=None, criterion='gini',\n",
       "                       max_depth=None, max_features=None, max_leaf_nodes=None,\n",
       "                       min_impurity_decrease=0.0, min_impurity_split=None,\n",
       "                       min_samples_leaf=1, min_samples_split=2,\n",
       "                       min_weight_fraction_leaf=0.0, presort='deprecated',\n",
       "                       random_state=None, splitter='best')"
      ]
     },
     "execution_count": 13,
     "metadata": {},
     "output_type": "execute_result"
    }
   ],
   "source": [
    "dt = DecisionTreeClassifier()\n",
    "\n",
    "dt.fit(X_train, y_train)"
   ]
  },
  {
   "cell_type": "code",
   "execution_count": 18,
   "metadata": {},
   "outputs": [],
   "source": [
    "# dot_data = StringIO()\n",
    "\n",
    "# export_graphviz(dt, out_file=dot_data, feature_names=features)\n",
    "\n",
    "# (graph, ) = graph_from_dot_data(dot_data.getvalue())\n",
    "# Image(graph.create_png())"
   ]
  },
  {
   "cell_type": "code",
   "execution_count": 23,
   "metadata": {},
   "outputs": [
    {
     "name": "stdout",
     "output_type": "stream",
     "text": [
      "Score:  0.6284968599624827\n"
     ]
    }
   ],
   "source": [
    "y_pred = dt.predict(X_test)\n",
    "print(\"Score: \", metrics.accuracy_score(y_test, y_pred))"
   ]
  },
  {
   "cell_type": "code",
   "execution_count": 29,
   "metadata": {},
   "outputs": [],
   "source": [
    "scores = cross_val_score(estimator=dt, X=df_X, y=df_y, cv=10, n_jobs=4)"
   ]
  },
  {
   "cell_type": "code",
   "execution_count": 30,
   "metadata": {},
   "outputs": [
    {
     "data": {
      "text/plain": [
       "array([0.64383282, 0.64579935, 0.65212072, 0.65415987, 0.65742251,\n",
       "       0.64008972, 0.64906199, 0.63621533, 0.63519576, 0.62867047])"
      ]
     },
     "execution_count": 30,
     "metadata": {},
     "output_type": "execute_result"
    }
   ],
   "source": [
    "scores"
   ]
  },
  {
   "cell_type": "code",
   "execution_count": 33,
   "metadata": {},
   "outputs": [
    {
     "data": {
      "text/plain": [
       "0.6402819216292985"
      ]
     },
     "execution_count": 33,
     "metadata": {},
     "output_type": "execute_result"
    }
   ],
   "source": [
    "from sklearn.metrics import f1_score\n",
    "f1_score(y_test, y_pred, average='weighted')"
   ]
  },
  {
   "cell_type": "code",
   "execution_count": 34,
   "metadata": {},
   "outputs": [],
   "source": [
    "import pandas as pd\n",
    "from sklearn import preprocessing\n",
    "\n",
    "x = df_X.values #returns a numpy array\n",
    "min_max_scaler = preprocessing.MinMaxScaler()\n",
    "x_scaled = min_max_scaler.fit_transform(x)\n",
    "df_X_normalized = pd.DataFrame(x_scaled)"
   ]
  },
  {
   "cell_type": "code",
   "execution_count": 36,
   "metadata": {},
   "outputs": [
    {
     "data": {
      "text/html": [
       "<div>\n",
       "<style scoped>\n",
       "    .dataframe tbody tr th:only-of-type {\n",
       "        vertical-align: middle;\n",
       "    }\n",
       "\n",
       "    .dataframe tbody tr th {\n",
       "        vertical-align: top;\n",
       "    }\n",
       "\n",
       "    .dataframe thead th {\n",
       "        text-align: right;\n",
       "    }\n",
       "</style>\n",
       "<table border=\"1\" class=\"dataframe\">\n",
       "  <thead>\n",
       "    <tr style=\"text-align: right;\">\n",
       "      <th></th>\n",
       "      <th>0</th>\n",
       "      <th>1</th>\n",
       "      <th>2</th>\n",
       "      <th>3</th>\n",
       "      <th>4</th>\n",
       "      <th>5</th>\n",
       "      <th>6</th>\n",
       "      <th>7</th>\n",
       "      <th>8</th>\n",
       "    </tr>\n",
       "  </thead>\n",
       "  <tbody>\n",
       "    <tr>\n",
       "      <th>0</th>\n",
       "      <td>0.10</td>\n",
       "      <td>0.125</td>\n",
       "      <td>0.031114</td>\n",
       "      <td>0.866763</td>\n",
       "      <td>0.157102</td>\n",
       "      <td>0.176991</td>\n",
       "      <td>0.086957</td>\n",
       "      <td>0.041885</td>\n",
       "      <td>0.029980</td>\n",
       "    </tr>\n",
       "    <tr>\n",
       "      <th>1</th>\n",
       "      <td>0.10</td>\n",
       "      <td>0.250</td>\n",
       "      <td>0.040518</td>\n",
       "      <td>0.865942</td>\n",
       "      <td>0.250417</td>\n",
       "      <td>0.079646</td>\n",
       "      <td>0.086957</td>\n",
       "      <td>0.209424</td>\n",
       "      <td>0.047302</td>\n",
       "    </tr>\n",
       "    <tr>\n",
       "      <th>2</th>\n",
       "      <td>0.10</td>\n",
       "      <td>0.250</td>\n",
       "      <td>0.041958</td>\n",
       "      <td>0.866377</td>\n",
       "      <td>0.230087</td>\n",
       "      <td>0.097345</td>\n",
       "      <td>0.086957</td>\n",
       "      <td>0.146597</td>\n",
       "      <td>0.041306</td>\n",
       "    </tr>\n",
       "    <tr>\n",
       "      <th>3</th>\n",
       "      <td>0.15</td>\n",
       "      <td>0.375</td>\n",
       "      <td>0.031973</td>\n",
       "      <td>0.867275</td>\n",
       "      <td>0.197094</td>\n",
       "      <td>0.070796</td>\n",
       "      <td>0.043478</td>\n",
       "      <td>0.041885</td>\n",
       "      <td>0.040640</td>\n",
       "    </tr>\n",
       "    <tr>\n",
       "      <th>4</th>\n",
       "      <td>0.10</td>\n",
       "      <td>0.000</td>\n",
       "      <td>0.038800</td>\n",
       "      <td>0.865848</td>\n",
       "      <td>0.183430</td>\n",
       "      <td>0.053097</td>\n",
       "      <td>0.043478</td>\n",
       "      <td>0.000000</td>\n",
       "      <td>0.023984</td>\n",
       "    </tr>\n",
       "    <tr>\n",
       "      <th>...</th>\n",
       "      <td>...</td>\n",
       "      <td>...</td>\n",
       "      <td>...</td>\n",
       "      <td>...</td>\n",
       "      <td>...</td>\n",
       "      <td>...</td>\n",
       "      <td>...</td>\n",
       "      <td>...</td>\n",
       "      <td>...</td>\n",
       "    </tr>\n",
       "    <tr>\n",
       "      <th>49036</th>\n",
       "      <td>0.10</td>\n",
       "      <td>0.000</td>\n",
       "      <td>0.043467</td>\n",
       "      <td>0.865067</td>\n",
       "      <td>0.142105</td>\n",
       "      <td>0.000000</td>\n",
       "      <td>0.000000</td>\n",
       "      <td>0.089005</td>\n",
       "      <td>0.004664</td>\n",
       "    </tr>\n",
       "    <tr>\n",
       "      <th>49037</th>\n",
       "      <td>0.10</td>\n",
       "      <td>0.375</td>\n",
       "      <td>0.061880</td>\n",
       "      <td>0.867405</td>\n",
       "      <td>0.183763</td>\n",
       "      <td>0.026549</td>\n",
       "      <td>0.043478</td>\n",
       "      <td>0.198953</td>\n",
       "      <td>0.010660</td>\n",
       "    </tr>\n",
       "    <tr>\n",
       "      <th>49038</th>\n",
       "      <td>0.10</td>\n",
       "      <td>0.250</td>\n",
       "      <td>0.056424</td>\n",
       "      <td>0.866588</td>\n",
       "      <td>0.156769</td>\n",
       "      <td>0.026549</td>\n",
       "      <td>0.043478</td>\n",
       "      <td>0.083770</td>\n",
       "      <td>0.007995</td>\n",
       "    </tr>\n",
       "    <tr>\n",
       "      <th>49039</th>\n",
       "      <td>0.10</td>\n",
       "      <td>0.250</td>\n",
       "      <td>0.039009</td>\n",
       "      <td>0.864618</td>\n",
       "      <td>0.276745</td>\n",
       "      <td>0.079646</td>\n",
       "      <td>0.043478</td>\n",
       "      <td>0.151832</td>\n",
       "      <td>0.016656</td>\n",
       "    </tr>\n",
       "    <tr>\n",
       "      <th>49040</th>\n",
       "      <td>0.10</td>\n",
       "      <td>0.375</td>\n",
       "      <td>0.042399</td>\n",
       "      <td>0.865987</td>\n",
       "      <td>0.282410</td>\n",
       "      <td>0.070796</td>\n",
       "      <td>0.086957</td>\n",
       "      <td>0.052356</td>\n",
       "      <td>0.070620</td>\n",
       "    </tr>\n",
       "  </tbody>\n",
       "</table>\n",
       "<p>49041 rows × 9 columns</p>\n",
       "</div>"
      ],
      "text/plain": [
       "          0      1         2         3         4         5         6  \\\n",
       "0      0.10  0.125  0.031114  0.866763  0.157102  0.176991  0.086957   \n",
       "1      0.10  0.250  0.040518  0.865942  0.250417  0.079646  0.086957   \n",
       "2      0.10  0.250  0.041958  0.866377  0.230087  0.097345  0.086957   \n",
       "3      0.15  0.375  0.031973  0.867275  0.197094  0.070796  0.043478   \n",
       "4      0.10  0.000  0.038800  0.865848  0.183430  0.053097  0.043478   \n",
       "...     ...    ...       ...       ...       ...       ...       ...   \n",
       "49036  0.10  0.000  0.043467  0.865067  0.142105  0.000000  0.000000   \n",
       "49037  0.10  0.375  0.061880  0.867405  0.183763  0.026549  0.043478   \n",
       "49038  0.10  0.250  0.056424  0.866588  0.156769  0.026549  0.043478   \n",
       "49039  0.10  0.250  0.039009  0.864618  0.276745  0.079646  0.043478   \n",
       "49040  0.10  0.375  0.042399  0.865987  0.282410  0.070796  0.086957   \n",
       "\n",
       "              7         8  \n",
       "0      0.041885  0.029980  \n",
       "1      0.209424  0.047302  \n",
       "2      0.146597  0.041306  \n",
       "3      0.041885  0.040640  \n",
       "4      0.000000  0.023984  \n",
       "...         ...       ...  \n",
       "49036  0.089005  0.004664  \n",
       "49037  0.198953  0.010660  \n",
       "49038  0.083770  0.007995  \n",
       "49039  0.151832  0.016656  \n",
       "49040  0.052356  0.070620  \n",
       "\n",
       "[49041 rows x 9 columns]"
      ]
     },
     "execution_count": 36,
     "metadata": {},
     "output_type": "execute_result"
    }
   ],
   "source": [
    "df_X_normalized"
   ]
  },
  {
   "cell_type": "code",
   "execution_count": 37,
   "metadata": {},
   "outputs": [],
   "source": [
    "X_train2, X_test2, y_train2, y_test2 = train_test_split(df_X_normalized, df_y2, random_state=1)"
   ]
  },
  {
   "cell_type": "code",
   "execution_count": 46,
   "metadata": {},
   "outputs": [
    {
     "data": {
      "text/plain": [
       "DecisionTreeClassifier(ccp_alpha=0.0, class_weight=None, criterion='gini',\n",
       "                       max_depth=None, max_features=None, max_leaf_nodes=None,\n",
       "                       min_impurity_decrease=0.0, min_impurity_split=None,\n",
       "                       min_samples_leaf=1, min_samples_split=2,\n",
       "                       min_weight_fraction_leaf=0.0, presort='deprecated',\n",
       "                       random_state=None, splitter='best')"
      ]
     },
     "execution_count": 46,
     "metadata": {},
     "output_type": "execute_result"
    }
   ],
   "source": [
    "dt_normal = DecisionTreeClassifier()\n",
    "\n",
    "dt_normal.fit(X_train2, y_train2)"
   ]
  },
  {
   "cell_type": "code",
   "execution_count": 49,
   "metadata": {},
   "outputs": [
    {
     "name": "stdout",
     "output_type": "stream",
     "text": [
      "Score:  0.629801810619036\n"
     ]
    }
   ],
   "source": [
    "y_pred2 = dt_normal.predict(X_test2)\n",
    "print(\"Score: \", metrics.accuracy_score(y_test2, y_pred2))"
   ]
  },
  {
   "cell_type": "code",
   "execution_count": 52,
   "metadata": {},
   "outputs": [],
   "source": [
    "scores = cross_val_score(estimator=dt_normal, X=df_X, y=df_y, cv=5, n_jobs=4)"
   ]
  },
  {
   "cell_type": "code",
   "execution_count": 53,
   "metadata": {},
   "outputs": [
    {
     "data": {
      "text/plain": [
       "array([0.64848608, 0.65619902, 0.65038744, 0.63193312, 0.62652936])"
      ]
     },
     "execution_count": 53,
     "metadata": {},
     "output_type": "execute_result"
    }
   ],
   "source": [
    "scores"
   ]
  },
  {
   "cell_type": "code",
   "execution_count": null,
   "metadata": {},
   "outputs": [],
   "source": []
  },
  {
   "cell_type": "code",
   "execution_count": null,
   "metadata": {},
   "outputs": [],
   "source": []
  }
 ],
 "metadata": {
  "kernelspec": {
   "display_name": "Python 3",
   "language": "python",
   "name": "python3"
  },
  "language_info": {
   "codemirror_mode": {
    "name": "ipython",
    "version": 3
   },
   "file_extension": ".py",
   "mimetype": "text/x-python",
   "name": "python",
   "nbconvert_exporter": "python",
   "pygments_lexer": "ipython3",
   "version": "3.8.1"
  }
 },
 "nbformat": 4,
 "nbformat_minor": 4
}
