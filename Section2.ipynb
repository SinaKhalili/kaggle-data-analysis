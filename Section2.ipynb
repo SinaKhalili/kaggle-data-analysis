{
 "cells": [
  {
   "cell_type": "code",
   "execution_count": 1,
   "metadata": {},
   "outputs": [
    {
     "name": "stdout",
     "output_type": "stream",
     "text": [
      "/Users/tjle/Documents/CMPT459/kaggle-data-analysis\n"
     ]
    }
   ],
   "source": [
    "import pandas as pd\n",
    "import numpy as np\n",
    "import json\n",
    "import matplotlib.pyplot as plt\n",
    "import seaborn as sns\n",
    "import os\n",
    "\n",
    "path = os.getcwd()\n",
    "os.chdir(path)\n",
    "print(path)\n"
   ]
  },
  {
   "cell_type": "code",
   "execution_count": 156,
   "metadata": {},
   "outputs": [],
   "source": [
    "df = pd.read_json(\"/Users/tjle/Documents/CMPT459/two-sigma-connect-rental-listing-inquiries/train.json\")\n"
   ]
  },
  {
   "cell_type": "markdown",
   "metadata": {},
   "source": [
    "\n",
    "<font size = \"6\"><b>FINDING MISSING VALUES</b></font>\n",
    "<p>Look at each column and filter the tuples that are missing a value for that column.</p>\n",
    "<p>Add the results to a dictionary to aggregate the results later.</p>"
   ]
  },
  {
   "cell_type": "code",
   "execution_count": 154,
   "metadata": {
    "scrolled": true
   },
   "outputs": [
    {
     "data": {
      "text/plain": [
       "{'bathrooms': 0,\n",
       " 'bedrooms': 0,\n",
       " 'building_id': 8286,\n",
       " 'created': 0,\n",
       " 'description': 1446,\n",
       " 'display_address': 135,\n",
       " 'features': 3218,\n",
       " 'latitude': 12,\n",
       " 'listing_id': 0,\n",
       " 'longitude': 12,\n",
       " 'manager_id': 0,\n",
       " 'photos': 3615,\n",
       " 'street_address': 10,\n",
       " 'interest_level': 0}"
      ]
     },
     "execution_count": 154,
     "metadata": {},
     "output_type": "execute_result"
    }
   ],
   "source": [
    "#applies a function along an axis in the dataframe. \n",
    "#axis = 0 are rows, axis = 1 are columns\n",
    "Dict = {}\n",
    "Dict['bathrooms'] = df[ df.apply(lambda x: x['bathrooms']== '',axis = 1) ]['bathrooms'].count()\n",
    "Dict['bedrooms'] = df[ df.apply(lambda x: x['bedrooms']== '',axis = 1) ] ['bedrooms'].count()\n",
    "Dict['building_id'] = df[ df.apply(lambda x: x['building_id']== '0',axis = 1) ] ['building_id'].count()\n",
    "Dict['created'] = df[ df.apply(lambda x: x['created']== '',axis = 1) ]['created'].count()\n",
    "Dict['description'] = df[df.apply(lambda x: x['description']=='',axis =1)]['description'].count()\n",
    "Dict['display_address'] = df[df.apply(lambda x: x['display_address']=='',axis =1)]['display_address'].count()\n",
    "Dict['features'] = df[df.apply(lambda x: x['features']==[],axis =1)]['features'].count()\n",
    "Dict['latitude'] = df[df.apply(lambda x: x['latitude']==0.0,axis =1)]['latitude'].count()\n",
    "Dict['listing_id'] = df[ df.apply(lambda x: x['listing_id'] == 0,axis = 1 )]['listing_id'].count()\n",
    "Dict['longitude'] = df[ df.apply(lambda x: x['longitude'] == 0,axis = 1 )]['longitude'].count()\n",
    "Dict['manager_id'] = df[ df.apply(lambda x: x['manager_id'] == '',axis = 1 )]['manager_id'].count()\n",
    "Dict['photos'] = df[ df.apply(lambda x: x['photos'] == [],axis = 1 )]['photos'].count()\n",
    "Dict['street_address'] = df[ df.apply(lambda x: x['street_address'] == '',axis = 1 )]['street_address'].count()\n",
    "Dict['interest_level'] = df[ df.apply(lambda x: x['interest_level'] == '',axis = 1) ]['interest_level'].count()\n",
    "Dict"
   ]
  },
  {
   "cell_type": "markdown",
   "metadata": {},
   "source": [
    "\n",
    "<b><font size = '6'>AGGREGATE MISSING VALUES</font></b>\n",
    "<p>Putting all the missing values into dataframe missingValues helps generalize the data.</p>"
   ]
  },
  {
   "cell_type": "code",
   "execution_count": 130,
   "metadata": {},
   "outputs": [
    {
     "data": {
      "text/html": [
       "<div>\n",
       "<style scoped>\n",
       "    .dataframe tbody tr th:only-of-type {\n",
       "        vertical-align: middle;\n",
       "    }\n",
       "\n",
       "    .dataframe tbody tr th {\n",
       "        vertical-align: top;\n",
       "    }\n",
       "\n",
       "    .dataframe thead th {\n",
       "        text-align: right;\n",
       "    }\n",
       "</style>\n",
       "<table border=\"1\" class=\"dataframe\">\n",
       "  <thead>\n",
       "    <tr style=\"text-align: right;\">\n",
       "      <th></th>\n",
       "      <th>bathrooms</th>\n",
       "      <th>bedrooms</th>\n",
       "      <th>building_id</th>\n",
       "      <th>created</th>\n",
       "      <th>display_address</th>\n",
       "      <th>features</th>\n",
       "      <th>listing_id</th>\n",
       "      <th>longitude</th>\n",
       "      <th>manager_id</th>\n",
       "      <th>photos</th>\n",
       "      <th>street_address</th>\n",
       "      <th>interest_level</th>\n",
       "    </tr>\n",
       "  </thead>\n",
       "  <tbody>\n",
       "    <tr>\n",
       "      <th>Number of Missing Values</th>\n",
       "      <td>0</td>\n",
       "      <td>0</td>\n",
       "      <td>8286</td>\n",
       "      <td>0</td>\n",
       "      <td>135</td>\n",
       "      <td>3218</td>\n",
       "      <td>0</td>\n",
       "      <td>10</td>\n",
       "      <td>0</td>\n",
       "      <td>3615</td>\n",
       "      <td>10</td>\n",
       "      <td>0</td>\n",
       "    </tr>\n",
       "  </tbody>\n",
       "</table>\n",
       "</div>"
      ],
      "text/plain": [
       "                         bathrooms bedrooms building_id created  \\\n",
       "Number of Missing Values         0        0        8286       0   \n",
       "\n",
       "                         display_address features listing_id longitude  \\\n",
       "Number of Missing Values             135     3218          0        10   \n",
       "\n",
       "                         manager_id photos street_address interest_level  \n",
       "Number of Missing Values          0   3615             10              0  "
      ]
     },
     "execution_count": 130,
     "metadata": {},
     "output_type": "execute_result"
    }
   ],
   "source": [
    "#Missing data values put into a dataframe\n",
    "missingValues = pd.DataFrame(Dict,index=['Number of Missing Values'])\n",
    "missingValues"
   ]
  },
  {
   "cell_type": "code",
   "execution_count": 137,
   "metadata": {},
   "outputs": [
    {
     "data": {
      "image/png": "[encoded data removed]",
      "text/plain": [
       "<Figure size 432x288 with 1 Axes>"
      ]
     },
     "metadata": {
      "needs_background": "light"
     },
     "output_type": "display_data"
    }
   ],
   "source": [
    "PriceBoxWOOL = df.boxplot(column = ['price'], showfliers = False)\n",
    "PriceBoxWOOL;"
   ]
  },
  {
   "cell_type": "code",
   "execution_count": 155,
   "metadata": {},
   "outputs": [
    {
     "data": {
      "image/png": "[encoded data removed]",
      "text/plain": [
       "<Figure size 432x288 with 1 Axes>"
      ]
     },
     "metadata": {
      "needs_background": "light"
     },
     "output_type": "display_data"
    }
   ],
   "source": [
    "PriceBoxWOL = df.boxplot(column = ['price'], showfliers = True)\n",
    "PriceBoxWOL;"
   ]
  },
  {
   "cell_type": "code",
   "execution_count": null,
   "metadata": {},
   "outputs": [],
   "source": []
  }
 ],
 "metadata": {
  "kernelspec": {
   "display_name": "Python 3",
   "language": "python",
   "name": "python3"
  },
  "language_info": {
   "codemirror_mode": {
    "name": "ipython",
    "version": 3
   },
   "file_extension": ".py",
   "mimetype": "text/x-python",
   "name": "python",
   "nbconvert_exporter": "python",
   "pygments_lexer": "ipython3",
   "version": "3.7.4"
  }
 },
 "nbformat": 4,
 "nbformat_minor": 4
}
