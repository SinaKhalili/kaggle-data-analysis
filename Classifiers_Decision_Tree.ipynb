{
 "cells": [
  {
   "cell_type": "code",
   "execution_count": 15,
   "metadata": {},
   "outputs": [],
   "source": [
    "import os\n",
    "import json\n",
    "\n",
    "import pandas as pd\n",
    "import numpy as np\n",
    "#import matplotlib.pyplot as plt\n",
    "\n",
    "from sklearn.tree import DecisionTreeClassifier\n",
    "# from sklearn.model_selection import Kfold\n",
    "from sklearn.model_selection import train_test_split, cross_val_score\n",
    "from sklearn import metrics\n",
    "\n",
    "from sklearn.tree import export_graphviz\n",
    "from sklearn.externals.six import StringIO  \n",
    "# from IPython.display import Image  \n",
    "# import pydotplus\n",
    "from pprint import pprint\n",
    "\n",
    "# Remember to install sklearn with\n",
    "# pip install -U scikit-learn"
   ]
  },
  {
   "cell_type": "code",
   "execution_count": 18,
   "metadata": {},
   "outputs": [],
   "source": [
    "\n",
    "\n",
    "\n",
    "\n",
    "\n",
    "df = pd.read_json('./cleaned_train.json')\n",
    "features = ['bathrooms', 'bedrooms', 'latitude','longitude','price']"
   ]
  },
  {
   "cell_type": "code",
   "execution_count": 19,
   "metadata": {},
   "outputs": [],
   "source": [
    "import sklearn"
   ]
  },
  {
   "cell_type": "code",
   "execution_count": 20,
   "metadata": {},
   "outputs": [],
   "source": [
    "df_X = df.drop('interest_level', axis=1)\n",
    "df_Y = df['interest_level']"
   ]
  },
  {
   "cell_type": "code",
   "execution_count": 26,
   "metadata": {},
   "outputs": [
    {
     "name": "stdout",
     "output_type": "stream",
     "text": [
      "Score:  0.6596386770523225\n"
     ]
    }
   ],
   "source": [
    "X = df[features]\n",
    "y = df['interest_level']\n",
    "\n",
    "X_train, X_test, y_train, y_test = train_test_split(X, y, test_size = 0.5, random_state = 1) \n",
    "\n",
    "clf = DecisionTreeClassifier()\n",
    "\n",
    "# Train Decision Tree Classifer\n",
    "clf = clf.fit(X_train, y_train)\n",
    "\n",
    "#Predict the response for test dataset\n",
    "y_pred = clf.predict(X_test)\n",
    "\n",
    "print(\"Score: \", metrics.accuracy_score(y_test, y_pred))\n",
    "\n",
    "dot_data = StringIO()\n",
    "# export_graphviz(clf, out_file = dot_data,  \n",
    "#                 filled = True, rounded = True,\n",
    "#                 special_characters = True, feature_names = features, class_names=['0','1'])\n",
    "# graph = pydotplus.graph_from_dot_data(dot_data.getvalue())  \n",
    "# # graph.write_png('descision_tree.png')\n",
    "# Image(graph.create_png() )"
   ]
  },
  {
   "cell_type": "code",
   "execution_count": 22,
   "metadata": {},
   "outputs": [
    {
     "name": "stdout",
     "output_type": "stream",
     "text": [
      "[(3, 0.6935829304608344), (4, 0.6940723214680501), (5, 0.6942354615067083), (6, 0.6950510743737228), (7, 0.6949491646091869), (8, 0.6949695145424594), (9, 0.6939499715330893), (10, 0.6922982823416286), (11, 0.6928080349256203), (12, 0.6910339870665709), (13, 0.6914214304678643), (14, 0.6892803444474359), (15, 0.6865479227247453), (16, 0.6859158085622891), (17, 0.6854876158095607), (18, 0.6835299877414284), (19, 0.6825308295958415)]\n"
     ]
    }
   ],
   "source": [
    "df['interest_level'] = df['interest_level'].map({'low':0,'medium':1, 'high':2})\n",
    "\n",
    "x = df[features[:-1] ]\n",
    "y = df['interest_level']\n",
    "\n",
    "# x_train,x_test,y_train,y_test = cross_validation.train_test_split(x,y,test_size=0.4,random_state=0)\n",
    "depth = []\n",
    "for i in range(3,20):\n",
    "    clf = DecisionTreeClassifier(max_depth=i)\n",
    "    # Perform 7-fold cross validation \n",
    "    scores = cross_val_score(estimator=clf, X=x, y=y, cv=7, n_jobs=4)\n",
    "    depth.append((i,scores.mean()))\n",
    "print(depth)"
   ]
  },
  {
   "cell_type": "code",
   "execution_count": 23,
   "metadata": {},
   "outputs": [
    {
     "data": {
      "text/plain": [
       "['bathrooms', 'bedrooms', 'latitude', 'longitude', 'price']"
      ]
     },
     "execution_count": 23,
     "metadata": {},
     "output_type": "execute_result"
    }
   ],
   "source": [
    "features"
   ]
  },
  {
   "cell_type": "code",
   "execution_count": 24,
   "metadata": {},
   "outputs": [
    {
     "data": {
      "text/plain": [
       "\"\\n\\nkf = KFold(n_splits=5) # Define the split - into 2 folds \\nkf.get_n_splits(X) # returns the number of splitting iterations in the cross-validator\\nprint(kf) \\nKFold(n_splits=2, random_state=None, shuffle=False)\\n\\nfor train_index, test_index in kf.split(X):\\n print(“TRAIN:”, train_index, “TEST:”, test_index)\\n X_train, X_test = X[train_index], X[test_index]\\n y_train, y_test = y[train_index], y[test_index]\\n('TRAIN:', array([2, 3]), 'TEST:', array([0, 1]))\\n('TRAIN:', array([0, 1]), 'TEST:', array([2, 3]))\\n\""
      ]
     },
     "execution_count": 24,
     "metadata": {},
     "output_type": "execute_result"
    }
   ],
   "source": [
    "'''\n",
    "\n",
    "kf = KFold(n_splits=5) # Define the split - into 2 folds \n",
    "kf.get_n_splits(X) # returns the number of splitting iterations in the cross-validator\n",
    "print(kf) \n",
    "KFold(n_splits=2, random_state=None, shuffle=False)\n",
    "\n",
    "for train_index, test_index in kf.split(X):\n",
    " print(“TRAIN:”, train_index, “TEST:”, test_index)\n",
    " X_train, X_test = X[train_index], X[test_index]\n",
    " y_train, y_test = y[train_index], y[test_index]\n",
    "('TRAIN:', array([2, 3]), 'TEST:', array([0, 1]))\n",
    "('TRAIN:', array([0, 1]), 'TEST:', array([2, 3]))\n",
    "'''"
   ]
  },
  {
   "cell_type": "code",
   "execution_count": null,
   "metadata": {},
   "outputs": [],
   "source": []
  },
  {
   "cell_type": "code",
   "execution_count": null,
   "metadata": {},
   "outputs": [],
   "source": []
  },
  {
   "cell_type": "code",
   "execution_count": null,
   "metadata": {},
   "outputs": [],
   "source": []
  }
 ],
 "metadata": {
  "kernelspec": {
   "display_name": "Python 3",
   "language": "python",
   "name": "python3"
  },
  "language_info": {
   "codemirror_mode": {
    "name": "ipython",
    "version": 3
   },
   "file_extension": ".py",
   "mimetype": "text/x-python",
   "name": "python",
   "nbconvert_exporter": "python",
   "pygments_lexer": "ipython3",
   "version": "3.8.1"
  }
 },
 "nbformat": 4,
 "nbformat_minor": 4
}
