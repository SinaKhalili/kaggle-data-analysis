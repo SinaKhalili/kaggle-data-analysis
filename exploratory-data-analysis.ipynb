{
 "cells": [
  {
   "cell_type": "code",
   "execution_count": 76,
   "metadata": {},
   "outputs": [],
   "source": [
    "import numpy as np\n",
    "import pandas as pd\n",
    "import seaborn as sns\n",
    "import matplotlib.pyplot as plt\n",
    "\n",
    "# These libraries allow interaction\n",
    "import ipywidgets as widgets\n",
    "from ipywidgets import interact, interact_manual\n",
    "\n",
    "# Allow viewing plots in jupyter\n",
    "%matplotlib inline"
   ]
  },
  {
   "cell_type": "markdown",
   "metadata": {},
   "source": [
    "## Check out the README for usage but quickly\n",
    "\n",
    "* The requirements are in `requirements.txt` \n",
    "  * Install with `pip install -r requirements.txt`\n",
    "* The dataset is [the two sigman connect rental](https://www.kaggle.com/c/two-sigma-connect-rental-listing-inquiries/data)\n",
    "  * Install it with the [kaggle api](https://github.com/Kaggle/kaggle-api) \n",
    "  * `kaggle competitions download -c two-sigma-connect-rental-listing-inquiries` at the root of the project\n",
    "  * `unzip two-sigma-connect-rental-listing-inquiries.zip`\n",
    "  * `unzip train.json.zip`"
   ]
  },
  {
   "cell_type": "code",
   "execution_count": 20,
   "metadata": {},
   "outputs": [],
   "source": [
    "df = pd.read_json('./train.json')"
   ]
  },
  {
   "cell_type": "code",
   "execution_count": 22,
   "metadata": {},
   "outputs": [
    {
     "data": {
      "text/plain": [
       "(49352, 15)"
      ]
     },
     "execution_count": 22,
     "metadata": {},
     "output_type": "execute_result"
    }
   ],
   "source": [
    "df.shape"
   ]
  },
  {
   "cell_type": "code",
   "execution_count": 27,
   "metadata": {
    "scrolled": true
   },
   "outputs": [
    {
     "data": {
      "text/html": [
       "<div>\n",
       "<style scoped>\n",
       "    .dataframe tbody tr th:only-of-type {\n",
       "        vertical-align: middle;\n",
       "    }\n",
       "\n",
       "    .dataframe tbody tr th {\n",
       "        vertical-align: top;\n",
       "    }\n",
       "\n",
       "    .dataframe thead th {\n",
       "        text-align: right;\n",
       "    }\n",
       "</style>\n",
       "<table border=\"1\" class=\"dataframe\">\n",
       "  <thead>\n",
       "    <tr style=\"text-align: right;\">\n",
       "      <th></th>\n",
       "      <th>bathrooms</th>\n",
       "      <th>bedrooms</th>\n",
       "      <th>building_id</th>\n",
       "      <th>created</th>\n",
       "      <th>description</th>\n",
       "      <th>display_address</th>\n",
       "      <th>features</th>\n",
       "      <th>latitude</th>\n",
       "      <th>listing_id</th>\n",
       "      <th>longitude</th>\n",
       "      <th>manager_id</th>\n",
       "      <th>photos</th>\n",
       "      <th>price</th>\n",
       "      <th>street_address</th>\n",
       "      <th>interest_level</th>\n",
       "    </tr>\n",
       "  </thead>\n",
       "  <tbody>\n",
       "    <tr>\n",
       "      <th>4</th>\n",
       "      <td>1.0</td>\n",
       "      <td>1</td>\n",
       "      <td>8579a0b0d54db803821a35a4a615e97a</td>\n",
       "      <td>2016-06-16 05:55:27</td>\n",
       "      <td>Spacious 1 Bedroom 1 Bathroom in Williamsburg!...</td>\n",
       "      <td>145 Borinquen Place</td>\n",
       "      <td>[Dining Room, Pre-War, Laundry in Building, Di...</td>\n",
       "      <td>40.7108</td>\n",
       "      <td>7170325</td>\n",
       "      <td>-73.9539</td>\n",
       "      <td>a10db4590843d78c784171a107bdacb4</td>\n",
       "      <td>[https://photos.renthop.com/2/7170325_3bb5ac84...</td>\n",
       "      <td>2400</td>\n",
       "      <td>145 Borinquen Place</td>\n",
       "      <td>medium</td>\n",
       "    </tr>\n",
       "  </tbody>\n",
       "</table>\n",
       "</div>"
      ],
      "text/plain": [
       "   bathrooms  bedrooms                       building_id              created  \\\n",
       "4        1.0         1  8579a0b0d54db803821a35a4a615e97a  2016-06-16 05:55:27   \n",
       "\n",
       "                                         description      display_address  \\\n",
       "4  Spacious 1 Bedroom 1 Bathroom in Williamsburg!...  145 Borinquen Place   \n",
       "\n",
       "                                            features  latitude  listing_id  \\\n",
       "4  [Dining Room, Pre-War, Laundry in Building, Di...   40.7108     7170325   \n",
       "\n",
       "   longitude                        manager_id  \\\n",
       "4   -73.9539  a10db4590843d78c784171a107bdacb4   \n",
       "\n",
       "                                              photos  price  \\\n",
       "4  [https://photos.renthop.com/2/7170325_3bb5ac84...   2400   \n",
       "\n",
       "        street_address interest_level  \n",
       "4  145 Borinquen Place         medium  "
      ]
     },
     "execution_count": 27,
     "metadata": {},
     "output_type": "execute_result"
    }
   ],
   "source": [
    "df.head(1) # Quite a a verbose output"
   ]
  },
  {
   "cell_type": "code",
   "execution_count": 28,
   "metadata": {},
   "outputs": [
    {
     "data": {
      "text/plain": [
       "low       34284\n",
       "medium    11229\n",
       "high       3839\n",
       "Name: interest_level, dtype: int64"
      ]
     },
     "execution_count": 28,
     "metadata": {},
     "output_type": "execute_result"
    }
   ],
   "source": [
    "df['interest_level'].value_counts()"
   ]
  },
  {
   "cell_type": "code",
   "execution_count": 36,
   "metadata": {},
   "outputs": [
    {
     "data": {
      "text/plain": [
       "(4490000, 43)"
      ]
     },
     "execution_count": 36,
     "metadata": {},
     "output_type": "execute_result"
    }
   ],
   "source": [
    "df['price'].max(), df['price'].min() # 43 dollars!"
   ]
  },
  {
   "cell_type": "markdown",
   "metadata": {},
   "source": [
    "We begin by reading in the data, and reading some basic information about it.\n",
    "\n",
    "We learn that the data: \n",
    " * Has ~49,000 rows with 15 columns\n",
    "   * 14 features, and the class `interest_level` that we must predict\n",
    " * The `interest_level` class has three possible values:\n",
    "   * `low`, `medium`, and `high`\n",
    " * Maximum and minimum prices are 4.9 million dollars and 43 dollars respectively\n",
    "   * As much as a broke student such as myself would love to believe in the 43 dollar listing, this is probably an error "
   ]
  },
  {
   "cell_type": "markdown",
   "metadata": {},
   "source": [
    "Let's visualize those target variables 👀 :"
   ]
  },
  {
   "cell_type": "code",
   "execution_count": 215,
   "metadata": {},
   "outputs": [
    {
     "data": {
      "text/plain": [
       "low       0.694683\n",
       "medium    0.227529\n",
       "high      0.077788\n",
       "Name: interest_level, dtype: float64"
      ]
     },
     "execution_count": 215,
     "metadata": {},
     "output_type": "execute_result"
    },
    {
     "data": {
      "image/png": "[encoded data removed]",
      "text/plain": [
       "<Figure size 432x288 with 1 Axes>"
      ]
     },
     "metadata": {
      "needs_background": "light"
     },
     "output_type": "display_data"
    }
   ],
   "source": [
    "plt.ylabel('count', fontsize=12)\n",
    "plt.xlabel('interest category', fontsize=12)\n",
    "df['interest_level'].value_counts().plot(kind=\"bar\");\n",
    "df['interest_level'].value_counts(normalize=True)"
   ]
  },
  {
   "cell_type": "markdown",
   "metadata": {},
   "source": [
    "We can see clearly there are many low-interest listings, and it slowly tapers off with very few high interest listings. Proportion percentages are shown on top."
   ]
  },
  {
   "cell_type": "markdown",
   "metadata": {},
   "source": [
    "We will now convert the data types in order to parse them correctly (such as dates)"
   ]
  },
  {
   "cell_type": "code",
   "execution_count": 56,
   "metadata": {},
   "outputs": [],
   "source": [
    "df['created'] = pd.to_datetime(df['created'])"
   ]
  },
  {
   "cell_type": "markdown",
   "metadata": {},
   "source": [
    "We can now do some analysis on the properties of this dataframe.\n",
    "\n",
    "For example, we will plot the \n",
    "\n",
    "### Hour-wise listing counts: \n",
    "\n",
    "**Note** this is an _interactive_ function and will not render on github. Run the notebook locally instead. Use the dropdown to view the different types of plots."
   ]
  },
  {
   "cell_type": "code",
   "execution_count": 178,
   "metadata": {},
   "outputs": [
    {
     "data": {
      "application/vnd.jupyter.widget-view+json": {
       "model_id": "f403eb8bbc134c43acb56a9b6e28f8d7",
       "version_major": 2,
       "version_minor": 0
      },
      "text/plain": [
       "interactive(children=(Dropdown(description='kind', options=('line', 'bar'), value='line'), Output()), _dom_cla…"
      ]
     },
     "metadata": {},
     "output_type": "display_data"
    }
   ],
   "source": [
    "hours = df['created'].groupby(\n",
    "    df[\"created\"].dt.hour\n",
    ").count()\n",
    "\n",
    "@interact\n",
    "def show_hour_plot(kind=['line', 'bar']):\n",
    "    plt.ylabel('count', fontsize=12)\n",
    "    hours.plot(kind=kind);"
   ]
  },
  {
   "cell_type": "code",
   "execution_count": 99,
   "metadata": {},
   "outputs": [
    {
     "data": {
      "text/plain": [
       "created\n",
       "2     10596\n",
       "3      8318\n",
       "5      7954\n",
       "1      5749\n",
       "4      5021\n",
       "6      4446\n",
       "7      1047\n",
       "14      782\n",
       "15      753\n",
       "12      693\n",
       "Name: created, dtype: int64"
      ]
     },
     "execution_count": 99,
     "metadata": {},
     "output_type": "execute_result"
    }
   ],
   "source": [
    "hours.nlargest(10)"
   ]
  },
  {
   "cell_type": "markdown",
   "metadata": {},
   "source": [
    "As we can see, the top times are ~1am-7am. Perhaps people are updating then because there is less traffic. Or maybe scripts are running which update at that time. Or perhaps the postings are being made by employees outside of the New York timezone. "
   ]
  },
  {
   "cell_type": "markdown",
   "metadata": {},
   "source": [
    "Next, we observe the\n",
    "### 💸 Price 💸"
   ]
  },
  {
   "cell_type": "code",
   "execution_count": 125,
   "metadata": {},
   "outputs": [
    {
     "data": {
      "image/png": "[encoded data removed]",
      "text/plain": [
       "<Figure size 432x288 with 1 Axes>"
      ]
     },
     "metadata": {
      "needs_background": "light"
     },
     "output_type": "display_data"
    }
   ],
   "source": [
    "prices = df['price'].groupby(\n",
    "    pd.cut(df['price'], 20)\n",
    ").count() \n",
    "\n",
    "prices.plot();"
   ]
  },
  {
   "cell_type": "markdown",
   "metadata": {},
   "source": [
    "We notice that the outliers are intrusive in this case and it would benefit us to remove them. To do this, we will remove the top percentile of some values."
   ]
  },
  {
   "cell_type": "code",
   "execution_count": 179,
   "metadata": {},
   "outputs": [
    {
     "data": {
      "application/vnd.jupyter.widget-view+json": {
       "model_id": "d5345aa112b94786b4d6262b4696906b",
       "version_major": 2,
       "version_minor": 0
      },
      "text/plain": [
       "interactive(children=(Dropdown(description='kind', options=('line', 'bar', 'barh', 'area'), value='line'), Flo…"
      ]
     },
     "metadata": {},
     "output_type": "display_data"
    }
   ],
   "source": [
    "@interact\n",
    "def show_price_plot(\n",
    "    kind=['line', 'bar', 'barh', 'area'],\n",
    "    percentile_limit=(50, 100, 0.5),\n",
    "    bins=(10,50,1),\n",
    "):\n",
    "    lim = np.percentile(df['price'].values, percentile_limit)\n",
    "    lost_data = df[df['price']>lim].shape[0]\n",
    "\n",
    "    adjusted_prices = df[df['price']<lim]['price']\n",
    "    prices = adjusted_prices.groupby(\n",
    "        pd.cut(adjusted_prices, bins)\n",
    "    ).count() \n",
    "    \n",
    "    xticks = [\n",
    "        prices.index[i].right for i in range(0,len(prices))\n",
    "    ]\n",
    "    plt.ylabel('count', fontsize=12)\n",
    "    prices.plot(\n",
    "        kind=kind, grid=True\n",
    "    ).set_xticklabels(xticks);"
   ]
  },
  {
   "cell_type": "markdown",
   "metadata": {},
   "source": [
    "Notice as we drag the percentiles higher (without hitting 100) the graph becomes more and more left-skewed. This shows us almost all the values are in the 2000-6000 dollar range. We find that 20 bins on the bar graph will achieve a good visualization.\n",
    "\n",
    "Some might find the distribution histogram plot more engaging: "
   ]
  },
  {
   "cell_type": "code",
   "execution_count": 199,
   "metadata": {},
   "outputs": [
    {
     "data": {
      "application/vnd.jupyter.widget-view+json": {
       "model_id": "2713d291060a4206bc55587ea854017f",
       "version_major": 2,
       "version_minor": 0
      },
      "text/plain": [
       "interactive(children=(Dropdown(description='kind', options=('line', 'bar', 'barh', 'area'), value='line'), Flo…"
      ]
     },
     "metadata": {},
     "output_type": "display_data"
    }
   ],
   "source": [
    "@interact\n",
    "def show_price_plot2(\n",
    "    kind=['line', 'bar', 'barh', 'area'],\n",
    "    percentile_limit=(50, 100, 0.5),\n",
    "    bins=(10,50,1),\n",
    "):\n",
    "    lim = np.percentile(df['price'].values, percentile_limit)\n",
    "\n",
    "    adjusted_prices = df[df['price']<lim]['price']\n",
    "    \n",
    "    sns.distplot(\n",
    "        adjusted_prices.values, \n",
    "        bins=bins, \n",
    "        kde=True,\n",
    "    )\n",
    "    plt.ylabel('share', fontsize=12)\n",
    "    plt.show()"
   ]
  },
  {
   "cell_type": "markdown",
   "metadata": {},
   "source": [
    "# Longitude and Lattitude\n",
    "\n",
    "We will give these columns a similar treatment, allowing the choice between types of graph. Use the dropdowns for your options. We have provided the graphs as well for after for the pdf version of this report."
   ]
  },
  {
   "cell_type": "code",
   "execution_count": 200,
   "metadata": {},
   "outputs": [
    {
     "data": {
      "application/vnd.jupyter.widget-view+json": {
       "model_id": "20e72e0f0d6b4f22a1ab32724d1a04e7",
       "version_major": 2,
       "version_minor": 0
      },
      "text/plain": [
       "interactive(children=(Dropdown(description='axis', options=('longitude', 'latitude'), value='longitude'), Drop…"
      ]
     },
     "metadata": {},
     "output_type": "display_data"
    }
   ],
   "source": [
    "@interact\n",
    "def show_long_plot1(\n",
    "    axis=['longitude','latitude'],\n",
    "    gtype=['sns','classic'],\n",
    "    kind=['line', 'bar', 'barh', 'area'],\n",
    "    upper_limit=(70, 100, 0.5),\n",
    "    lower_limit=(0, 10, 0.5),\n",
    "    bins=(10,50,1),\n",
    "):\n",
    "    lim = np.percentile(df[axis].values, upper_limit)\n",
    "    low_lim = np.percentile(df[axis].values, lower_limit)\n",
    "    \n",
    "    adjusted = df[df[axis]<lim]\n",
    "    adjusted = adjusted[adjusted[axis] > low_lim][axis]\n",
    "    \n",
    "    if(gtype == \"sns\"):\n",
    "        sns.distplot(\n",
    "            adjusted.values, \n",
    "            bins=bins, \n",
    "            kde=True,\n",
    "        )\n",
    "        plt.ylabel('count', fontsize=12)\n",
    "        plt.show();\n",
    "        \n",
    "    elif(gtype == \"classic\"):\n",
    "        prices = adjusted.groupby(\n",
    "            pd.cut(adjusted, bins)\n",
    "        ).count() \n",
    "\n",
    "        xticks = [\n",
    "            prices.index[i].right for i in range(0,len(prices))\n",
    "        ]\n",
    "        plt.ylabel('share', fontsize=12)\n",
    "        prices.plot(\n",
    "            kind=kind, grid=True\n",
    "        ).set_xticklabels(xticks);\n",
    "        \n"
   ]
  },
  {
   "cell_type": "code",
   "execution_count": 209,
   "metadata": {},
   "outputs": [
    {
     "data": {
      "image/png": "[encoded data removed]",
      "text/plain": [
       "<Figure size 432x288 with 1 Axes>"
      ]
     },
     "metadata": {
      "needs_background": "light"
     },
     "output_type": "display_data"
    }
   ],
   "source": [
    "plot = 'latitude'\n",
    "plt.xlabel(plot)\n",
    "show_long_plot1(plot,'sns','bar',99.5,0.5,40)"
   ]
  },
  {
   "cell_type": "markdown",
   "metadata": {},
   "source": [
    "Notice that the values are mostly in the 40-41 range"
   ]
  },
  {
   "cell_type": "code",
   "execution_count": 210,
   "metadata": {},
   "outputs": [
    {
     "data": {
      "image/png": "[encoded data removed]",
      "text/plain": [
       "<Figure size 432x288 with 1 Axes>"
      ]
     },
     "metadata": {
      "needs_background": "light"
     },
     "output_type": "display_data"
    }
   ],
   "source": [
    "plot = 'longitude'\n",
    "plt.xlabel(plot)\n",
    "show_long_plot1(plot,'sns','bar',99.5,0.5,40)"
   ]
  },
  {
   "cell_type": "markdown",
   "metadata": {},
   "source": [
    "The values are in the -73 to -74 range.\n",
    "\n",
    "After [some searching](https://www.latlong.net/place/new-york-city-ny-usa-1848.html) we realize these values belong to New York City."
   ]
  },
  {
   "cell_type": "markdown",
   "metadata": {},
   "source": [
    "This concludes our data exploration phase, though we did look at other things in the dataset such bedroom distribution and other numerical attributes."
   ]
  },
  {
   "cell_type": "code",
   "execution_count": null,
   "metadata": {},
   "outputs": [],
   "source": []
  }
 ],
 "metadata": {
  "kernelspec": {
   "display_name": "Python 3",
   "language": "python",
   "name": "python3"
  },
  "language_info": {
   "codemirror_mode": {
    "name": "ipython",
    "version": 3
   },
   "file_extension": ".py",
   "mimetype": "text/x-python",
   "name": "python",
   "nbconvert_exporter": "python",
   "pygments_lexer": "ipython3",
   "version": "3.8.1"
  }
 },
 "nbformat": 4,
 "nbformat_minor": 4
}
