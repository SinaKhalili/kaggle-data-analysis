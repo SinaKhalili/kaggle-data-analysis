{
 "cells": [
  {
   "cell_type": "code",
   "execution_count": 1,
   "metadata": {
    "hideCode": true,
    "hideOutput": true,
    "hidePrompt": true
   },
   "outputs": [],
   "source": [
    "import numpy as np\n",
    "import pandas as pd\n",
    "import seaborn as sns\n",
    "import matplotlib.pyplot as plt\n",
    "\n",
    "# These libraries allow interaction\n",
    "import ipywidgets as widgets\n",
    "from ipywidgets import interact, interact_manual\n",
    "\n",
    "# Allow viewing plots in jupyter\n",
    "%matplotlib inline"
   ]
  },
  {
   "cell_type": "markdown",
   "metadata": {},
   "source": [
    "# Exploratory analysis\n",
    "By Sina Khalili, Logan Militzer, and Phong Le\n",
    "\n",
    " * First some general comments about the shape of the data\n",
    " * Then some charts about the various attributes\n",
    " * Some outlier and missing values analysis\n",
    "\n",
    "# Link to code: \n",
    "[On github](https://github.com/SinaKhalili/kaggle-data-analysis/)\n",
    "\n",
    "\n",
    "Or use the link here: \n",
    "`https://github.com/SinaKhalili/kaggle-data-analysis/`\n",
    "\n",
    "## For running the notebook\n",
    "\n",
    "* The requirements are in `requirements.txt` \n",
    "  * Install with `pip install -r requirements.txt`\n",
    "* The dataset is [the two sigman connect rental](https://www.kaggle.com/c/two-sigma-connect-rental-listing-inquiries/data)\n",
    "  * Install it with the [kaggle api](https://github.com/Kaggle/kaggle-api) \n",
    "  * `kaggle competitions download -c two-sigma-connect-rental-listing-inquiries` at the root of the project\n",
    "  * `unzip two-sigma-connect-rental-listing-inquiries.zip`\n",
    "  * `unzip train.json.zip`"
   ]
  },
  {
   "cell_type": "code",
   "execution_count": 2,
   "metadata": {
    "hideCode": true,
    "hidePrompt": true
   },
   "outputs": [],
   "source": [
    "df = pd.read_json('./train.json')"
   ]
  },
  {
   "cell_type": "code",
   "execution_count": 3,
   "metadata": {
    "hideCode": false
   },
   "outputs": [
    {
     "data": {
      "text/plain": [
       "(49352, 15)"
      ]
     },
     "execution_count": 3,
     "metadata": {},
     "output_type": "execute_result"
    }
   ],
   "source": [
    "df.shape"
   ]
  },
  {
   "cell_type": "code",
   "execution_count": 4,
   "metadata": {
    "hidePrompt": true,
    "scrolled": true
   },
   "outputs": [
    {
     "data": {
      "text/html": [
       "<div>\n",
       "<style scoped>\n",
       "    .dataframe tbody tr th:only-of-type {\n",
       "        vertical-align: middle;\n",
       "    }\n",
       "\n",
       "    .dataframe tbody tr th {\n",
       "        vertical-align: top;\n",
       "    }\n",
       "\n",
       "    .dataframe thead th {\n",
       "        text-align: right;\n",
       "    }\n",
       "</style>\n",
       "<table border=\"1\" class=\"dataframe\">\n",
       "  <thead>\n",
       "    <tr style=\"text-align: right;\">\n",
       "      <th></th>\n",
       "      <th>bathrooms</th>\n",
       "      <th>bedrooms</th>\n",
       "      <th>building_id</th>\n",
       "      <th>created</th>\n",
       "      <th>description</th>\n",
       "      <th>display_address</th>\n",
       "      <th>features</th>\n",
       "      <th>latitude</th>\n",
       "      <th>listing_id</th>\n",
       "      <th>longitude</th>\n",
       "      <th>manager_id</th>\n",
       "      <th>photos</th>\n",
       "      <th>price</th>\n",
       "      <th>street_address</th>\n",
       "      <th>interest_level</th>\n",
       "    </tr>\n",
       "  </thead>\n",
       "  <tbody>\n",
       "    <tr>\n",
       "      <th>4</th>\n",
       "      <td>1.0</td>\n",
       "      <td>1</td>\n",
       "      <td>8579a0b0d54db803821a35a4a615e97a</td>\n",
       "      <td>2016-06-16 05:55:27</td>\n",
       "      <td>Spacious 1 Bedroom 1 Bathroom in Williamsburg!...</td>\n",
       "      <td>145 Borinquen Place</td>\n",
       "      <td>[Dining Room, Pre-War, Laundry in Building, Di...</td>\n",
       "      <td>40.7108</td>\n",
       "      <td>7170325</td>\n",
       "      <td>-73.9539</td>\n",
       "      <td>a10db4590843d78c784171a107bdacb4</td>\n",
       "      <td>[https://photos.renthop.com/2/7170325_3bb5ac84...</td>\n",
       "      <td>2400</td>\n",
       "      <td>145 Borinquen Place</td>\n",
       "      <td>medium</td>\n",
       "    </tr>\n",
       "  </tbody>\n",
       "</table>\n",
       "</div>"
      ],
      "text/plain": [
       "   bathrooms  bedrooms                       building_id              created  \\\n",
       "4        1.0         1  8579a0b0d54db803821a35a4a615e97a  2016-06-16 05:55:27   \n",
       "\n",
       "                                         description      display_address  \\\n",
       "4  Spacious 1 Bedroom 1 Bathroom in Williamsburg!...  145 Borinquen Place   \n",
       "\n",
       "                                            features  latitude  listing_id  \\\n",
       "4  [Dining Room, Pre-War, Laundry in Building, Di...   40.7108     7170325   \n",
       "\n",
       "   longitude                        manager_id  \\\n",
       "4   -73.9539  a10db4590843d78c784171a107bdacb4   \n",
       "\n",
       "                                              photos  price  \\\n",
       "4  [https://photos.renthop.com/2/7170325_3bb5ac84...   2400   \n",
       "\n",
       "        street_address interest_level  \n",
       "4  145 Borinquen Place         medium  "
      ]
     },
     "execution_count": 4,
     "metadata": {},
     "output_type": "execute_result"
    }
   ],
   "source": [
    "df.head(1) # Quite a a verbose output"
   ]
  },
  {
   "cell_type": "code",
   "execution_count": 5,
   "metadata": {
    "hideCode": true,
    "hidePrompt": true
   },
   "outputs": [
    {
     "data": {
      "text/plain": [
       "low       34284\n",
       "medium    11229\n",
       "high       3839\n",
       "Name: interest_level, dtype: int64"
      ]
     },
     "execution_count": 5,
     "metadata": {},
     "output_type": "execute_result"
    }
   ],
   "source": [
    "df['interest_level'].value_counts()"
   ]
  },
  {
   "cell_type": "code",
   "execution_count": 6,
   "metadata": {
    "hidePrompt": true
   },
   "outputs": [
    {
     "data": {
      "text/plain": [
       "(4490000, 43)"
      ]
     },
     "execution_count": 6,
     "metadata": {},
     "output_type": "execute_result"
    }
   ],
   "source": [
    "df['price'].max(), df['price'].min() # 43 dollars!"
   ]
  },
  {
   "cell_type": "markdown",
   "metadata": {},
   "source": [
    "We begin by reading in the data, and reading some basic information about it.\n",
    "\n",
    "We learn that the data: \n",
    " * Has ~49,000 rows with 15 columns\n",
    "   * 14 features, and the class `interest_level` that we must predict\n",
    " * The `interest_level` class has three possible values:\n",
    "   * `low`, `medium`, and `high`\n",
    " * Maximum and minimum prices are 4.9 million dollars and 43 dollars respectively\n",
    "   * As much as a broke student such as myself would love to believe in the 43 dollar listing, this is probably an error "
   ]
  },
  {
   "cell_type": "markdown",
   "metadata": {},
   "source": [
    "Let's visualize those target variables 👀 :"
   ]
  },
  {
   "cell_type": "code",
   "execution_count": 7,
   "metadata": {
    "hideCode": true
   },
   "outputs": [
    {
     "data": {
      "text/plain": [
       "low       0.694683\n",
       "medium    0.227529\n",
       "high      0.077788\n",
       "Name: interest_level, dtype: float64"
      ]
     },
     "execution_count": 7,
     "metadata": {},
     "output_type": "execute_result"
    },
    {
     "data": {
      "image/png": "[encoded data removed]",
      "text/plain": [
       "<Figure size 432x288 with 1 Axes>"
      ]
     },
     "metadata": {
      "needs_background": "light"
     },
     "output_type": "display_data"
    }
   ],
   "source": [
    "plt.ylabel('count', fontsize=12)\n",
    "plt.xlabel('interest category', fontsize=12)\n",
    "df['interest_level'].value_counts().plot(kind=\"bar\");\n",
    "df['interest_level'].value_counts(normalize=True)"
   ]
  },
  {
   "cell_type": "markdown",
   "metadata": {},
   "source": [
    "We can see clearly there are many low-interest listings, and it slowly tapers off with very few high interest listings. Proportion percentages are shown on top."
   ]
  },
  {
   "cell_type": "markdown",
   "metadata": {},
   "source": [
    "We will now convert the data types in order to parse them correctly (such as dates)"
   ]
  },
  {
   "cell_type": "code",
   "execution_count": 8,
   "metadata": {
    "hideCode": false
   },
   "outputs": [],
   "source": [
    "df['created'] = pd.to_datetime(df['created'])"
   ]
  },
  {
   "cell_type": "markdown",
   "metadata": {},
   "source": [
    "We can now do some analysis on the properties of this dataframe.\n",
    "\n",
    "For example, we will plot the \n",
    "\n",
    "### Hour-wise listing counts: \n",
    "\n",
    "**Note** this is an _interactive_ function and will not render on github. Run the notebook locally instead. Use the dropdown to view the different types of plots."
   ]
  },
  {
   "cell_type": "code",
   "execution_count": 9,
   "metadata": {
    "hideCode": false
   },
   "outputs": [
    {
     "data": {
      "application/vnd.jupyter.widget-view+json": {
       "model_id": "3ed894f936f242b99798a171c5643bc4",
       "version_major": 2,
       "version_minor": 0
      },
      "text/plain": [
       "interactive(children=(Dropdown(description='kind', options=('line', 'bar'), value='line'), Output()), _dom_cla…"
      ]
     },
     "metadata": {},
     "output_type": "display_data"
    },
    {
     "data": {
      "image/png": "[encoded data removed]",
      "text/plain": [
       "<Figure size 432x288 with 1 Axes>"
      ]
     },
     "metadata": {
      "needs_background": "light"
     },
     "output_type": "display_data"
    }
   ],
   "source": [
    "hours = df['created'].groupby(\n",
    "    df[\"created\"].dt.hour\n",
    ").count()\n",
    "\n",
    "@interact\n",
    "def show_hour_plot(kind=['line', 'bar']):\n",
    "    plt.ylabel('count', fontsize=12)\n",
    "    hours.plot(kind=kind);\n",
    "    \n",
    "show_hour_plot(\"bar\")\n",
    "show_hour_plot(\"line\")"
   ]
  },
  {
   "cell_type": "code",
   "execution_count": 10,
   "metadata": {},
   "outputs": [
    {
     "data": {
      "text/plain": [
       "created\n",
       "2    10596\n",
       "3     8318\n",
       "5     7954\n",
       "1     5749\n",
       "4     5021\n",
       "Name: created, dtype: int64"
      ]
     },
     "execution_count": 10,
     "metadata": {},
     "output_type": "execute_result"
    }
   ],
   "source": [
    "hours.nlargest(5)"
   ]
  },
  {
   "cell_type": "markdown",
   "metadata": {},
   "source": [
    "As we can see, the top times are ~1am-7am. Perhaps people are updating then because there is less traffic. Or maybe scripts are running which update at that time. Or perhaps the postings are being made by employees outside of the New York timezone. "
   ]
  },
  {
   "cell_type": "markdown",
   "metadata": {},
   "source": [
    "Next, we observe the\n",
    "### 💸 Price 💸"
   ]
  },
  {
   "cell_type": "code",
   "execution_count": 11,
   "metadata": {
    "hideCode": true,
    "hidePrompt": true
   },
   "outputs": [
    {
     "data": {
      "image/png": "[encoded data removed]",
      "text/plain": [
       "<Figure size 432x288 with 1 Axes>"
      ]
     },
     "metadata": {
      "needs_background": "light"
     },
     "output_type": "display_data"
    }
   ],
   "source": [
    "prices = df['price'].groupby(\n",
    "    pd.cut(df['price'], 20)\n",
    ").count() \n",
    "\n",
    "prices.plot();"
   ]
  },
  {
   "cell_type": "markdown",
   "metadata": {},
   "source": [
    "We notice that the outliers are intrusive in this case and it would benefit us to remove them. To do this, we will remove the top percentile of some values."
   ]
  },
  {
   "cell_type": "code",
   "execution_count": 12,
   "metadata": {
    "hideCode": true,
    "hidePrompt": true
   },
   "outputs": [
    {
     "data": {
      "application/vnd.jupyter.widget-view+json": {
       "model_id": "26966a299da24426a382748e4835b999",
       "version_major": 2,
       "version_minor": 0
      },
      "text/plain": [
       "interactive(children=(Dropdown(description='kind', options=('line', 'bar', 'barh', 'area'), value='line'), Flo…"
      ]
     },
     "metadata": {},
     "output_type": "display_data"
    }
   ],
   "source": [
    "@interact\n",
    "def show_price_plot(\n",
    "    kind=['line', 'bar', 'barh', 'area'],\n",
    "    percentile_limit=(50, 100, 0.5),\n",
    "    bins=(10,50,1),\n",
    "):\n",
    "    lim = np.percentile(df['price'].values, percentile_limit)\n",
    "    lost_data = df[df['price']>lim].shape[0]\n",
    "\n",
    "    adjusted_prices = df[df['price']<lim]['price']\n",
    "    prices = adjusted_prices.groupby(\n",
    "        pd.cut(adjusted_prices, bins)\n",
    "    ).count() \n",
    "    \n",
    "    xticks = [\n",
    "        prices.index[i].right for i in range(0,len(prices))\n",
    "    ]\n",
    "    plt.ylabel('count', fontsize=12)\n",
    "    prices.plot(\n",
    "        kind=kind, grid=True\n",
    "    ).set_xticklabels(xticks);"
   ]
  },
  {
   "cell_type": "code",
   "execution_count": 13,
   "metadata": {
    "hideCode": true,
    "hidePrompt": true
   },
   "outputs": [
    {
     "data": {
      "image/png": "[encoded data removed]",
      "text/plain": [
       "<Figure size 432x288 with 1 Axes>"
      ]
     },
     "metadata": {
      "needs_background": "light"
     },
     "output_type": "display_data"
    }
   ],
   "source": [
    "show_price_plot(kind='line', percentile_limit=99.5, bins=35)"
   ]
  },
  {
   "cell_type": "markdown",
   "metadata": {},
   "source": [
    "Notice as we drag the percentiles higher (without hitting 100) the graph becomes more and more left-skewed. This shows us almost all the values are in the 2000-6000 dollar range. We find that 20 bins on the bar graph will achieve a good visualization.\n",
    "\n",
    "Some might find the distribution histogram plot more engaging: "
   ]
  },
  {
   "cell_type": "code",
   "execution_count": 14,
   "metadata": {
    "hideCode": true
   },
   "outputs": [
    {
     "data": {
      "application/vnd.jupyter.widget-view+json": {
       "model_id": "f8fd80ab149846ae8a1358d32d1ff00c",
       "version_major": 2,
       "version_minor": 0
      },
      "text/plain": [
       "interactive(children=(Dropdown(description='kind', options=('line', 'bar', 'barh', 'area'), value='line'), Flo…"
      ]
     },
     "metadata": {},
     "output_type": "display_data"
    }
   ],
   "source": [
    "@interact\n",
    "def show_price_plot2(\n",
    "    kind=['line', 'bar', 'barh', 'area'],\n",
    "    percentile_limit=(50, 100, 0.5),\n",
    "    bins=(10,50,1),\n",
    "):\n",
    "    lim = np.percentile(df['price'].values, percentile_limit)\n",
    "\n",
    "    adjusted_prices = df[df['price']<lim]['price']\n",
    "    \n",
    "    sns.distplot(\n",
    "        adjusted_prices.values, \n",
    "        bins=bins, \n",
    "        kde=True,\n",
    "    )\n",
    "    plt.ylabel('share', fontsize=12)\n",
    "    plt.show()"
   ]
  },
  {
   "cell_type": "code",
   "execution_count": 15,
   "metadata": {
    "hideCode": true
   },
   "outputs": [
    {
     "data": {
      "image/png": "[encoded data removed]",
      "text/plain": [
       "<Figure size 432x288 with 1 Axes>"
      ]
     },
     "metadata": {
      "needs_background": "light"
     },
     "output_type": "display_data"
    }
   ],
   "source": [
    "show_price_plot2(kind='line', percentile_limit=99.5, bins=30)"
   ]
  },
  {
   "cell_type": "markdown",
   "metadata": {},
   "source": [
    "# Longitude and Lattitude\n",
    "\n",
    "We will give these columns a similar treatment, allowing the choice between types of graph. Use the dropdowns for your options. We have provided the graphs as well for after for the pdf version of this report."
   ]
  },
  {
   "cell_type": "code",
   "execution_count": 16,
   "metadata": {
    "hideCode": true
   },
   "outputs": [
    {
     "data": {
      "application/vnd.jupyter.widget-view+json": {
       "model_id": "3b2c5e72cbad4f18a81cf2d5da745fa5",
       "version_major": 2,
       "version_minor": 0
      },
      "text/plain": [
       "interactive(children=(Dropdown(description='axis', options=('longitude', 'latitude'), value='longitude'), Drop…"
      ]
     },
     "metadata": {},
     "output_type": "display_data"
    }
   ],
   "source": [
    "@interact\n",
    "def show_long_plot1(\n",
    "    axis=['longitude','latitude'],\n",
    "    gtype=['sns','classic'],\n",
    "    kind=['line', 'bar', 'barh', 'area'],\n",
    "    upper_limit=(70, 100, 0.5),\n",
    "    lower_limit=(0, 10, 0.5),\n",
    "    bins=(10,50,1),\n",
    "):\n",
    "    lim = np.percentile(df[axis].values, upper_limit)\n",
    "    low_lim = np.percentile(df[axis].values, lower_limit)\n",
    "    \n",
    "    adjusted = df[df[axis]<lim]\n",
    "    adjusted = adjusted[adjusted[axis] > low_lim][axis]\n",
    "    \n",
    "    if(gtype == \"sns\"):\n",
    "        sns.distplot(\n",
    "            adjusted.values, \n",
    "            bins=bins, \n",
    "            kde=True,\n",
    "        )\n",
    "        plt.ylabel('count', fontsize=12)\n",
    "        plt.show();\n",
    "        \n",
    "    elif(gtype == \"classic\"):\n",
    "        prices = adjusted.groupby(\n",
    "            pd.cut(adjusted, bins)\n",
    "        ).count() \n",
    "\n",
    "        xticks = [\n",
    "            prices.index[i].right for i in range(0,len(prices))\n",
    "        ]\n",
    "        plt.ylabel('share', fontsize=12)\n",
    "        prices.plot(\n",
    "            kind=kind, grid=True\n",
    "        ).set_xticklabels(xticks);\n",
    "        \n"
   ]
  },
  {
   "cell_type": "code",
   "execution_count": 17,
   "metadata": {
    "hideCode": true
   },
   "outputs": [
    {
     "data": {
      "image/png": "[encoded data removed]",
      "text/plain": [
       "<Figure size 432x288 with 1 Axes>"
      ]
     },
     "metadata": {
      "needs_background": "light"
     },
     "output_type": "display_data"
    }
   ],
   "source": [
    "plot = 'latitude'\n",
    "plt.xlabel(plot)\n",
    "show_long_plot1(plot,'sns','bar',99.5,0.5,40)"
   ]
  },
  {
   "cell_type": "markdown",
   "metadata": {
    "hideCode": false
   },
   "source": [
    "Notice that the values are mostly in the 40-41 range"
   ]
  },
  {
   "cell_type": "code",
   "execution_count": 18,
   "metadata": {
    "hideCode": true,
    "hidePrompt": true
   },
   "outputs": [
    {
     "data": {
      "image/png": "[encoded data removed]",
      "text/plain": [
       "<Figure size 432x288 with 1 Axes>"
      ]
     },
     "metadata": {
      "needs_background": "light"
     },
     "output_type": "display_data"
    }
   ],
   "source": [
    "plot = 'longitude'\n",
    "plt.xlabel(plot)\n",
    "show_long_plot1(plot,'sns','bar',99.5,0.3,40)"
   ]
  },
  {
   "cell_type": "markdown",
   "metadata": {},
   "source": [
    "# Conclusion of latitude and longitude\n",
    "\n",
    "The values are in the -73 to -74 range, and the 40-41 range.\n",
    "\n",
    "After [some searching](https://www.latlong.net/place/new-york-city-ny-usa-1848.html) we realize these values belong to New York City.\n",
    "\n",
    "Also of note when playing with the interactive plots we created, we realized that the graph varies drastically when the percentile of included data reaches 100 compared to 99.6. This gives us insight into the fact of the amount of outliers within this dataset. We analyze these outliers more later in this report but in essence after viewing the graph skew, we've decided to remove the top 0.3% off the top and 0.2% off the bottom. This loses less than 1 percent of the data but perserves the essence of the graph (i.e. the same general shape of the graph it would look like with, say 25% off the top and bottom).\n",
    "\n",
    "We highly encourage readers of this document to use the interactive plots by cloning the [repo](https://github.com/SinaKhalili/kaggle-data-analysis) and running the notebook locally."
   ]
  },
  {
   "cell_type": "markdown",
   "metadata": {},
   "source": [
    "This concludes our data exploration phase, though we did look at other things in the dataset such bedroom distribution and other numerical attributes."
   ]
  },
  {
   "cell_type": "markdown",
   "metadata": {},
   "source": [
    "## Outliers\n",
    "\n",
    "We now analyze the outliers more thoroughly. We provide a function to view the number of data points lying outside a certain range of percentile. Again, these numbers were decided by viewing the graphs.\n",
    "\n",
    "The graphs are then provided after the numbers."
   ]
  },
  {
   "cell_type": "code",
   "execution_count": 19,
   "metadata": {
    "hideCode": true
   },
   "outputs": [],
   "source": [
    "def get_num_outliers(o_axis):\n",
    "    o_upper_limit = 99.95\n",
    "    o_lower_limit = 0.03\n",
    "    o_lim = np.percentile(df[o_axis].values, o_upper_limit)\n",
    "    o_low_lim = np.percentile(df[o_axis].values, o_lower_limit)\n",
    "    o_loss = df[df[o_axis] > o_lim][o_axis].count()\n",
    "    o_loss_2 = df[df[o_axis] < o_low_lim][o_axis].count()\n",
    "    return o_loss + o_loss_2"
   ]
  },
  {
   "cell_type": "code",
   "execution_count": 20,
   "metadata": {
    "hideCode": true
   },
   "outputs": [
    {
     "name": "stdout",
     "output_type": "stream",
     "text": [
      "Number of items outside the percentiles is 40 in latitude\n",
      "Number of items outside the percentiles is 40 in longitude\n",
      "Number of items outside the percentiles is 40 in price\n"
     ]
    }
   ],
   "source": [
    "for cat in ['latitude', 'longitude', 'price']:\n",
    "    print(f\"Number of items outside the percentiles is {get_num_outliers(cat)} in {cat}\")"
   ]
  },
  {
   "cell_type": "code",
   "execution_count": 21,
   "metadata": {
    "hideCode": true
   },
   "outputs": [
    {
     "data": {
      "image/png": "[encoded data removed]",
      "text/plain": [
       "<Figure size 432x288 with 1 Axes>"
      ]
     },
     "metadata": {
      "needs_background": "light"
     },
     "output_type": "display_data"
    }
   ],
   "source": [
    "plot = 'latitude'\n",
    "plt.xlabel(plot)\n",
    "show_long_plot1(plot,'sns','bar',100,0.5,40)"
   ]
  },
  {
   "cell_type": "code",
   "execution_count": 22,
   "metadata": {
    "hideCode": false
   },
   "outputs": [
    {
     "data": {
      "image/png": "[encoded data removed]",
      "text/plain": [
       "<Figure size 432x288 with 1 Axes>"
      ]
     },
     "metadata": {
      "needs_background": "light"
     },
     "output_type": "display_data"
    }
   ],
   "source": [
    "PriceBoxWOOL = df.boxplot(column = ['price'], showfliers = True); PriceBoxWOOL;"
   ]
  },
  {
   "cell_type": "code",
   "execution_count": 23,
   "metadata": {
    "scrolled": true
   },
   "outputs": [
    {
     "data": {
      "image/png": "[encoded data removed]",
      "text/plain": [
       "<Figure size 432x288 with 1 Axes>"
      ]
     },
     "metadata": {
      "needs_background": "light"
     },
     "output_type": "display_data"
    }
   ],
   "source": [
    "BedBox = df.boxplot(column = ['bedrooms'], showfliers = True); BedBox;"
   ]
  },
  {
   "cell_type": "code",
   "execution_count": 24,
   "metadata": {
    "hideCode": true
   },
   "outputs": [
    {
     "data": {
      "image/png": "[encoded data removed]",
      "text/plain": [
       "<Figure size 432x288 with 1 Axes>"
      ]
     },
     "metadata": {
      "needs_background": "light"
     },
     "output_type": "display_data"
    }
   ],
   "source": [
    "from scipy.stats import gaussian_kde\n",
    "x = df[\"latitude\"]\n",
    "y = df[\"longitude\"]\n",
    "\n",
    "\n",
    "xy = np.vstack([x,y])\n",
    "z = gaussian_kde(xy)(xy)\n",
    "\n",
    "fig, ax = plt.subplots()\n",
    "ax.scatter(x, y, c=z, s=100, edgecolor='')\n",
    "plt.xlabel(\"longitude\")\n",
    "plt.ylabel(\"latitude\")\n",
    "plt.show()"
   ]
  },
  {
   "cell_type": "code",
   "execution_count": 25,
   "metadata": {
    "hideCode": true,
    "hidePrompt": true
   },
   "outputs": [
    {
     "data": {
      "image/png": "[encoded data removed]",
      "text/plain": [
       "<Figure size 432x288 with 1 Axes>"
      ]
     },
     "metadata": {
      "needs_background": "light"
     },
     "output_type": "display_data"
    }
   ],
   "source": [
    "BathBoxWOOL = df.boxplot(column = ['bathrooms'], showfliers = True); BathBoxWOOL;"
   ]
  },
  {
   "cell_type": "code",
   "execution_count": 26,
   "metadata": {},
   "outputs": [
    {
     "data": {
      "text/plain": [
       "10.0"
      ]
     },
     "execution_count": 26,
     "metadata": {},
     "output_type": "execute_result"
    }
   ],
   "source": [
    "df['bathrooms'].max() # Relatively low diff between min and max"
   ]
  },
  {
   "cell_type": "code",
   "execution_count": 27,
   "metadata": {},
   "outputs": [
    {
     "data": {
      "text/plain": [
       "8"
      ]
     },
     "execution_count": 27,
     "metadata": {},
     "output_type": "execute_result"
    }
   ],
   "source": [
    "df['bedrooms'].max() # Relatively low diff between min and max"
   ]
  },
  {
   "cell_type": "markdown",
   "metadata": {},
   "source": [
    "## Other features\n",
    "\n",
    "For some of the features, doing outlier analysis is not beneficial. For example, in the strings it is not immediately obvious which metric to base it off. Also in the `id` fields there really is no such thing as an outlier as those fields are deterministically calculated by way of a hashing algorithm."
   ]
  },
  {
   "cell_type": "markdown",
   "metadata": {},
   "source": [
    "# Final thoughts on outliers\n",
    "\n",
    "We found that that there are relitively few differences between the min and max, we find it is not beneficial for us to remove these rows. \n",
    "\n",
    "However, for the longitude/latitude as well as price, the difference between outliers is quite drastic and changes the shape of the graph entirely, therefore we chose to remove the top 0.5 and bottom 0.2 percent of the datasets respectively. More concretely:\n",
    "\n",
    "## Outlier Analysis\n",
    "\n",
    "For most of the attributes, doing outlier analysis is not beneficial. Attributes that have non-numerical datatypes, such as created, description, display_address, features, photos, street_address, interest_level do not have a metric to clearly define an outlier with, therefore it does not make sense to include them for our analysis.\n",
    "\n",
    "Attributes with id fields, building_id, listing_id, manager_id, cannot be evaluated as outliers because those fields are deterministically calculated by way of a hashing algorithm.\n",
    "\n",
    "For bedrooms and bathrooms, we decided against counting these values as outliers. 0-7 and 0-10 for bedrooms and bathrooms respectively was such a tight range of integer values that we had to be conservative about what we considered as an outlier. We considered the rental listing that had 10 bathrooms as an outlier, but with such a small range of possible values, we decided it was not extreme enough to remove the tuple.\n",
    "\n",
    "For latitude and longitude, we will remove the outliers. Namely, those in the bottom 0.2% and the top 0.3%, which make up for less than 1.0% of the graph. For the histogram above, removal of the outliers makes the graph more readable without compromising the bulk of the data. In addition most of the lattitude/longitute takes place in a very tight range within the New York area, so location vastly outside this range seem unlikely to be beneficial for analysis. \n",
    "\n",
    "For price, after looking at its boxplot and histogram above, it is evident that we will remove the outliers. Its range of values is too spread out such that outliers heavily skew the graphs. We will consider all prices greater than one million to be outliers because these do not make the 99.5th percentile.\n"
   ]
  },
  {
   "cell_type": "markdown",
   "metadata": {},
   "source": [
    "# Missing values\n"
   ]
  },
  {
   "cell_type": "code",
   "execution_count": 28,
   "metadata": {
    "hideCode": false
   },
   "outputs": [
    {
     "data": {
      "text/plain": [
       "{'bathrooms': 0,\n",
       " 'bedrooms': 0,\n",
       " 'building_id': 8286,\n",
       " 'created': 0,\n",
       " 'description': 1446,\n",
       " 'display_address': 135,\n",
       " 'features': 0,\n",
       " 'latitude': 12,\n",
       " 'listing_id': 0,\n",
       " 'longitude': 12,\n",
       " 'manager_id': 0,\n",
       " 'photos': 0,\n",
       " 'price': 0,\n",
       " 'street_address': 10,\n",
       " 'interest_level': 0}"
      ]
     },
     "execution_count": 28,
     "metadata": {},
     "output_type": "execute_result"
    }
   ],
   "source": [
    "#applies a function along an axis in the dataframe. \n",
    "#axis = 0 are rows, axis = 1 are columns\n",
    "missing_values = {}\n",
    "for cat in df.columns:\n",
    "    missing_values[cat] = df[\n",
    "        df.apply(lambda x: x[cat]== '' or x[cat] == '0' or x[cat] == 0 or x[cat] == 0.0, axis = 1)\n",
    "    ][cat].count()\n",
    "\n",
    "missing_values['bathrooms'] = df[ df.apply(lambda x: x['bathrooms']== '',axis = 1) ] ['bathrooms'].count()\n",
    "missing_values['bedrooms'] = df[ df.apply(lambda x: x['bedrooms']== '',axis = 1) ] ['bedrooms'].count()\n",
    "\n",
    "missing_values"
   ]
  },
  {
   "cell_type": "code",
   "execution_count": 29,
   "metadata": {},
   "outputs": [
    {
     "data": {
      "text/html": [
       "<div>\n",
       "<style scoped>\n",
       "    .dataframe tbody tr th:only-of-type {\n",
       "        vertical-align: middle;\n",
       "    }\n",
       "\n",
       "    .dataframe tbody tr th {\n",
       "        vertical-align: top;\n",
       "    }\n",
       "\n",
       "    .dataframe thead th {\n",
       "        text-align: right;\n",
       "    }\n",
       "</style>\n",
       "<table border=\"1\" class=\"dataframe\">\n",
       "  <thead>\n",
       "    <tr style=\"text-align: right;\">\n",
       "      <th></th>\n",
       "      <th>bathrooms</th>\n",
       "      <th>bedrooms</th>\n",
       "      <th>building_id</th>\n",
       "      <th>created</th>\n",
       "      <th>description</th>\n",
       "      <th>display_address</th>\n",
       "      <th>features</th>\n",
       "      <th>latitude</th>\n",
       "      <th>listing_id</th>\n",
       "      <th>longitude</th>\n",
       "      <th>manager_id</th>\n",
       "      <th>photos</th>\n",
       "      <th>price</th>\n",
       "      <th>street_address</th>\n",
       "      <th>interest_level</th>\n",
       "    </tr>\n",
       "  </thead>\n",
       "  <tbody>\n",
       "    <tr>\n",
       "      <th>Number of Missing Values</th>\n",
       "      <td>0</td>\n",
       "      <td>0</td>\n",
       "      <td>8286</td>\n",
       "      <td>0</td>\n",
       "      <td>1446</td>\n",
       "      <td>135</td>\n",
       "      <td>0</td>\n",
       "      <td>12</td>\n",
       "      <td>0</td>\n",
       "      <td>12</td>\n",
       "      <td>0</td>\n",
       "      <td>0</td>\n",
       "      <td>0</td>\n",
       "      <td>10</td>\n",
       "      <td>0</td>\n",
       "    </tr>\n",
       "  </tbody>\n",
       "</table>\n",
       "</div>"
      ],
      "text/plain": [
       "                          bathrooms  bedrooms  building_id  created  \\\n",
       "Number of Missing Values          0         0         8286        0   \n",
       "\n",
       "                          description  display_address  features  latitude  \\\n",
       "Number of Missing Values         1446              135         0        12   \n",
       "\n",
       "                          listing_id  longitude  manager_id  photos  price  \\\n",
       "Number of Missing Values           0         12           0       0      0   \n",
       "\n",
       "                          street_address  interest_level  \n",
       "Number of Missing Values              10               0  "
      ]
     },
     "execution_count": 29,
     "metadata": {},
     "output_type": "execute_result"
    }
   ],
   "source": [
    "missingValues = pd.DataFrame(missing_values,index=['Number of Missing Values'])\n",
    "missingValues"
   ]
  },
  {
   "cell_type": "markdown",
   "metadata": {},
   "source": [
    "## Discussion and plan with regards to the missing values\n",
    " * We have chosen not to interpret the number `0` as a missing value for the `bedroom` and `bathroom` categories, as it is entirely possible to have a listing with `0` as a value. For instance, no bedroom, but you sleep on the couch.\n",
    " * For the rest of the columns we look to see if it falls into a few cases of malformed or missing datum. We noticed there were no explicit `None` values.\n",
    " * Also of note is the `building_id` is the most frequently missing value, however this is inconsequential to our analysis, as it contains no relevant information for this analysis. We can safely drop this whole column, so the missing values don't impact this decision.\n",
    " * Regarding `description`, we will deal with the missing values by averaging the values from the feature extraction. Compared to the number of total entries, it is a relatively miniscule amount of entries but the text data that it provides is useful for our text data feature extraction, so we will keep them.\n",
    " * The `display_address` *could also be derived from the `street_address`* (simply by removing the unit number). \n",
    " * The `latitude` and `longitude` *could be derived from the address*, given that it exists. In the case that **both** the address and the longitude-latitude do not exist, we can safely drop the row, as the number of such cases make up less than 0.01 percent of the dataset, an inconsequential number. \n",
    " * In the case that the `street_address` is also missing, we will eliminate the row. These cases also align with the cases described above and in the end will lose again less than 0.01 percent of the data, which we consider an inconsequential sum.\n",
    " "
   ]
  },
  {
   "cell_type": "markdown",
   "metadata": {},
   "source": [
    "# Feature extraction \n",
    "\n",
    "We now look at possible features to extract from the non-numeric data such as the text and the images.\n"
   ]
  },
  {
   "cell_type": "markdown",
   "metadata": {},
   "source": [
    "# 📸 Image data\n",
    "\n",
    "We now show how to extract the features for an image, then we expand this for all images"
   ]
  },
  {
   "cell_type": "code",
   "execution_count": 30,
   "metadata": {
    "hideCode": true,
    "hideOutput": true,
    "hidePrompt": true
   },
   "outputs": [
    {
     "name": "stderr",
     "output_type": "stream",
     "text": [
      "<ipython-input-30-7ed9980c6bdc>:6: UserWarning: Viewer requires Qt\n",
      "  from skimage.viewer import ImageViewer\n"
     ]
    }
   ],
   "source": [
    "import os\n",
    "import numpy as np\n",
    "from PIL import * #Image\n",
    "import PIL.Image\n",
    "import skimage\n",
    "from skimage.viewer import ImageViewer\n",
    "import sys\n",
    "import argparse\n",
    "from matplotlib import pyplot as plt\n",
    "from pylab import *\n",
    "import base64\n",
    "import cv2\n",
    "\n",
    "import subprocess"
   ]
  },
  {
   "cell_type": "code",
   "execution_count": 31,
   "metadata": {
    "hideCode": false,
    "hidePrompt": true
   },
   "outputs": [],
   "source": [
    "import glob\n",
    "img_filenames = glob.glob('./images_sample/*/*.jpg')"
   ]
  },
  {
   "cell_type": "code",
   "execution_count": 32,
   "metadata": {
    "hideCode": true,
    "hidePrompt": true
   },
   "outputs": [
    {
     "data": {
      "application/vnd.jupyter.widget-view+json": {
       "model_id": "e5af6bd5d5774731b48910ad4f2c98d8",
       "version_major": 2,
       "version_minor": 0
      },
      "text/plain": [
       "interactive(children=(Dropdown(description='FileName', options=('./images_sample/6812061/6812061_95f8fafaeeaad…"
      ]
     },
     "metadata": {},
     "output_type": "display_data"
    },
    {
     "name": "stdout",
     "output_type": "stream",
     "text": [
      "Image Width:  566  pixels\n",
      "Image Height:  640  pixels\n"
     ]
    },
    {
     "data": {
      "image/png": "[encoded data removed]",
      "text/plain": [
       "<Figure size 432x288 with 1 Axes>"
      ]
     },
     "metadata": {
      "needs_background": "light"
     },
     "output_type": "display_data"
    },
    {
     "data": {
      "image/png": "[encoded data removed]",
      "text/plain": [
       "<Figure size 432x288 with 1 Axes>"
      ]
     },
     "metadata": {
      "needs_background": "light"
     },
     "output_type": "display_data"
    },
    {
     "data": {
      "image/png": "[encoded data removed]",
      "text/plain": [
       "<Figure size 432x288 with 1 Axes>"
      ]
     },
     "metadata": {
      "needs_background": "light"
     },
     "output_type": "display_data"
    },
    {
     "data": {
      "image/png": "[encoded data removed]",
      "text/plain": [
       "<Figure size 432x216 with 1 Axes>"
      ]
     },
     "metadata": {
      "needs_background": "light"
     },
     "output_type": "display_data"
    }
   ],
   "source": [
    "@interact\n",
    "def image_charts(FileName=img_filenames):\n",
    "    from pylab import figure\n",
    "    imagereg = Image.open(FileName)\n",
    "    imgplt = plt.imread(FileName) #reads image data\n",
    "    imgnp = np.array(Image.open(FileName) )\n",
    "\n",
    "    #Processing\n",
    "    def GrayProcessing(file):\n",
    "        GS = file.convert('L') #Gray scale\n",
    "        img_arr = np.array(GS)\n",
    "        return img_arr\n",
    "    \n",
    "    GSCall = GrayProcessing(imagereg)\n",
    "    \n",
    "    #Binary of image\n",
    "    def contourIMG(file):\n",
    "        plt.figure()\n",
    "        plt.gray()\n",
    "        plt.contour(file, origin = 'upper')\n",
    "        plt.axis('on')\n",
    "    \n",
    "    #Histogram\n",
    "    def GrayHistogram(file):\n",
    "        plt.figure()\n",
    "        plt.hist(file.flatten(), 64)\n",
    "        plt.axis('on')\n",
    "    \n",
    "    #Image Size\n",
    "    def ImageSize(file):\n",
    "        width, height = file.size\n",
    "        print('Image Width: ', width, ' pixels')\n",
    "        print('Image Height: ', height, ' pixels')\n",
    "    \n",
    "    #Image Height\n",
    "    def ImageHeight(file):\n",
    "        width, height = file.size\n",
    "        return height\n",
    "    \n",
    "    #Image Array\n",
    "    def npImgArr(file):\n",
    "        array = np.array(file.getdata() )\n",
    "        return array\n",
    "    \n",
    "    #MatPlotColour\n",
    "    def npMatPlotColour(arr, file):\n",
    "        figure, xaxis = plt.subplots(figsize = (6,3) )\n",
    "        xaxis.set_xlim(0, 256) #Image(file)\n",
    "        data, bincount, edging = xaxis.hist(arr, bins = range(256), edgecolor = 'none')\n",
    "    \n",
    "    ###RGB Histogram\n",
    "    def RGBHistogram(file):\n",
    "        plt.figure()\n",
    "        color = ('b','g','r')\n",
    "        for i, RGB in enumerate(color):\n",
    "            plt.xlim([0, 256])\n",
    "            plot = cv2.calcHist([file], [i], None, [256], [0, 256])\n",
    "            plt.plot(plot, color = RGB)\n",
    "        plt.show()\n",
    "        \n",
    "    #Calling the functions above\n",
    "    ImageSize(imagereg)\n",
    "    GrayHistogram(GSCall) \n",
    "    RGBHistogram(imgplt)\n",
    "    contourIMG(GSCall)\n",
    "    npMatPlotColour(npImgArr(imagereg), imagereg)\n",
    "\n",
    "image_charts('./images_sample/6812061/6812061_95f8fafaeeaada90b7e5209c3af37fa0.jpg')"
   ]
  },
  {
   "cell_type": "code",
   "execution_count": 33,
   "metadata": {
    "hideCode": false,
    "hidePrompt": true
   },
   "outputs": [
    {
     "data": {
      "application/vnd.jupyter.widget-view+json": {
       "model_id": "ca5ffd3497ce49ed839aab8f08a43ab2",
       "version_major": 2,
       "version_minor": 0
      },
      "text/plain": [
       "interactive(children=(FloatSlider(value=75.0, description='percentile_limit', min=50.0, step=0.5), IntSlider(v…"
      ]
     },
     "metadata": {},
     "output_type": "display_data"
    },
    {
     "data": {
      "image/png": "[encoded data removed]",
      "text/plain": [
       "<Figure size 432x288 with 1 Axes>"
      ]
     },
     "metadata": {
      "needs_background": "light"
     },
     "output_type": "display_data"
    }
   ],
   "source": [
    "import os\n",
    "import json\n",
    "import pandas as pd\n",
    "\n",
    "# path = os.getcwd()\n",
    "# os.chdir(path)\n",
    "# print(path)\n",
    "\n",
    "df = pd.read_json('./train.json')\n",
    "\n",
    "Header1 = 'description'\n",
    "#Header2 = 'test\n",
    "'''\n",
    "\n",
    "'''\n",
    "## !\"#$%@'()*+,-./:;<>=?&[]\\^_`~{}|\n",
    "##Special Character count\n",
    "def is_special_char(x):\n",
    "    xs = x.split()\n",
    "    ans = []\n",
    "    import re\n",
    "    special_chars = re.compile(\"[^\\w\\s]\")\n",
    "    for xi in xs:\n",
    "        if special_chars.match(xi) is not None:\n",
    "            ans.append(xi)\n",
    "    return len(ans)\n",
    "        \n",
    "\n",
    "# df['Special Characters'] = df[Header1].apply(lambda x: len([x for x in x.split() if '$' in x]))\n",
    "df['Special Characters'] = df[Header1].apply(is_special_char)\n",
    "\n",
    "df2 = df[[Header1,'Special Characters']]\n",
    "chrs = df[[Header1,'Special Characters']]['Special Characters']\n",
    "\n",
    "@interact\n",
    "def show_char_plot(\n",
    "    percentile_limit=(50, 100, 0.5),\n",
    "    bins=(10,50,1),\n",
    "):\n",
    "    lim = np.percentile(chrs, percentile_limit)\n",
    "\n",
    "    adjusted = df2[df2['Special Characters']<lim]['Special Characters']\n",
    "    \n",
    "    sns.distplot(\n",
    "        adjusted.values, \n",
    "        bins=bins, \n",
    "        kde=True,\n",
    "    )\n",
    "    plt.ylabel('share', fontsize=12)\n",
    "    plt.xlabel('Number of special characters in description')\n",
    "    plt.show()\n",
    "    \n",
    "show_char_plot(95.5, 29)"
   ]
  },
  {
   "cell_type": "code",
   "execution_count": 34,
   "metadata": {
    "hideCode": true
   },
   "outputs": [
    {
     "data": {
      "text/html": [
       "<div>\n",
       "<style scoped>\n",
       "    .dataframe tbody tr th:only-of-type {\n",
       "        vertical-align: middle;\n",
       "    }\n",
       "\n",
       "    .dataframe tbody tr th {\n",
       "        vertical-align: top;\n",
       "    }\n",
       "\n",
       "    .dataframe thead th {\n",
       "        text-align: right;\n",
       "    }\n",
       "</style>\n",
       "<table border=\"1\" class=\"dataframe\">\n",
       "  <thead>\n",
       "    <tr style=\"text-align: right;\">\n",
       "      <th></th>\n",
       "      <th>feature</th>\n",
       "      <th>count</th>\n",
       "    </tr>\n",
       "  </thead>\n",
       "  <tbody>\n",
       "    <tr>\n",
       "      <th>8</th>\n",
       "      <td>Elevator</td>\n",
       "      <td>25915</td>\n",
       "    </tr>\n",
       "    <tr>\n",
       "      <th>6</th>\n",
       "      <td>Cats Allowed</td>\n",
       "      <td>23540</td>\n",
       "    </tr>\n",
       "    <tr>\n",
       "      <th>4</th>\n",
       "      <td>Hardwood Floors</td>\n",
       "      <td>23527</td>\n",
       "    </tr>\n",
       "    <tr>\n",
       "      <th>5</th>\n",
       "      <td>Dogs Allowed</td>\n",
       "      <td>22035</td>\n",
       "    </tr>\n",
       "    <tr>\n",
       "      <th>7</th>\n",
       "      <td>Doorman</td>\n",
       "      <td>20898</td>\n",
       "    </tr>\n",
       "    <tr>\n",
       "      <th>3</th>\n",
       "      <td>Dishwasher</td>\n",
       "      <td>20426</td>\n",
       "    </tr>\n",
       "    <tr>\n",
       "      <th>9</th>\n",
       "      <td>No Fee</td>\n",
       "      <td>18062</td>\n",
       "    </tr>\n",
       "    <tr>\n",
       "      <th>2</th>\n",
       "      <td>Laundry in Building</td>\n",
       "      <td>16344</td>\n",
       "    </tr>\n",
       "    <tr>\n",
       "      <th>11</th>\n",
       "      <td>Fitness Center</td>\n",
       "      <td>13252</td>\n",
       "    </tr>\n",
       "    <tr>\n",
       "      <th>1</th>\n",
       "      <td>Pre-War</td>\n",
       "      <td>9148</td>\n",
       "    </tr>\n",
       "    <tr>\n",
       "      <th>10</th>\n",
       "      <td>Laundry in Unit</td>\n",
       "      <td>8738</td>\n",
       "    </tr>\n",
       "    <tr>\n",
       "      <th>14</th>\n",
       "      <td>Roof Deck</td>\n",
       "      <td>6542</td>\n",
       "    </tr>\n",
       "    <tr>\n",
       "      <th>37</th>\n",
       "      <td>Outdoor Space</td>\n",
       "      <td>5268</td>\n",
       "    </tr>\n",
       "    <tr>\n",
       "      <th>0</th>\n",
       "      <td>Dining Room</td>\n",
       "      <td>5136</td>\n",
       "    </tr>\n",
       "    <tr>\n",
       "      <th>15</th>\n",
       "      <td>High Speed Internet</td>\n",
       "      <td>4299</td>\n",
       "    </tr>\n",
       "    <tr>\n",
       "      <th>38</th>\n",
       "      <td>Balcony</td>\n",
       "      <td>2992</td>\n",
       "    </tr>\n",
       "    <tr>\n",
       "      <th>16</th>\n",
       "      <td>Swimming Pool</td>\n",
       "      <td>2730</td>\n",
       "    </tr>\n",
       "    <tr>\n",
       "      <th>21</th>\n",
       "      <td>Laundry In Building</td>\n",
       "      <td>2593</td>\n",
       "    </tr>\n",
       "    <tr>\n",
       "      <th>32</th>\n",
       "      <td>New Construction</td>\n",
       "      <td>2559</td>\n",
       "    </tr>\n",
       "    <tr>\n",
       "      <th>36</th>\n",
       "      <td>Terrace</td>\n",
       "      <td>2283</td>\n",
       "    </tr>\n",
       "    <tr>\n",
       "      <th>35</th>\n",
       "      <td>Exclusive</td>\n",
       "      <td>2167</td>\n",
       "    </tr>\n",
       "    <tr>\n",
       "      <th>12</th>\n",
       "      <td>Loft</td>\n",
       "      <td>2100</td>\n",
       "    </tr>\n",
       "    <tr>\n",
       "      <th>31</th>\n",
       "      <td>Garden/Patio</td>\n",
       "      <td>1943</td>\n",
       "    </tr>\n",
       "    <tr>\n",
       "      <th>17</th>\n",
       "      <td>Wheelchair Access</td>\n",
       "      <td>1358</td>\n",
       "    </tr>\n",
       "    <tr>\n",
       "      <th>19</th>\n",
       "      <td>Common Outdoor Space</td>\n",
       "      <td>1293</td>\n",
       "    </tr>\n",
       "  </tbody>\n",
       "</table>\n",
       "</div>"
      ],
      "text/plain": [
       "                 feature  count\n",
       "8               Elevator  25915\n",
       "6           Cats Allowed  23540\n",
       "4        Hardwood Floors  23527\n",
       "5           Dogs Allowed  22035\n",
       "7                Doorman  20898\n",
       "3             Dishwasher  20426\n",
       "9                 No Fee  18062\n",
       "2    Laundry in Building  16344\n",
       "11        Fitness Center  13252\n",
       "1                Pre-War   9148\n",
       "10       Laundry in Unit   8738\n",
       "14             Roof Deck   6542\n",
       "37         Outdoor Space   5268\n",
       "0            Dining Room   5136\n",
       "15   High Speed Internet   4299\n",
       "38               Balcony   2992\n",
       "16         Swimming Pool   2730\n",
       "21   Laundry In Building   2593\n",
       "32      New Construction   2559\n",
       "36               Terrace   2283\n",
       "35             Exclusive   2167\n",
       "12                  Loft   2100\n",
       "31          Garden/Patio   1943\n",
       "17     Wheelchair Access   1358\n",
       "19  Common Outdoor Space   1293"
      ]
     },
     "execution_count": 34,
     "metadata": {},
     "output_type": "execute_result"
    }
   ],
   "source": [
    "from collections import Counter\n",
    "feats = Counter()\n",
    "\n",
    "for row in df['features']:\n",
    "    for f in row:\n",
    "        feats[f] += 1\n",
    "        \n",
    "df_c = pd.DataFrame.from_dict(feats, orient='index').reset_index()\n",
    "df_c = df_c.rename(columns={\"index\": \"feature\", 0: \"count\"})\n",
    "\n",
    "df_c[\"count\"].nlargest(10)\n",
    "df_c.sort_values(by=['count'], ascending=False).head(25)"
   ]
  },
  {
   "cell_type": "code",
   "execution_count": 35,
   "metadata": {
    "hideCode": true
   },
   "outputs": [
    {
     "name": "stdout",
     "output_type": "stream",
     "text": [
      "and                 135368\n",
      "/><br               115420\n",
      "the                  85583\n",
      "a                    83595\n",
      "to                   63061\n",
      "with                 59600\n",
      "in                   57049\n",
      "of                   53380\n",
      "is                   42832\n",
      "website_redacted     35409\n",
      "for                  26662\n",
      "apartment            24377\n",
      "or                   22454\n",
      "on                   19408\n",
      "this                 18843\n",
      "dtype: int64\n",
      "SpaceDeckRoof                1\n",
      "TV<br>-                      1\n",
      "OKPhotos                     1\n",
      "Rooftop-Pet                  1\n",
      "ceilingsPlenty               1\n",
      "TheReception                 1\n",
      "Condo<ul><li>Short           1\n",
      "G.M.Hogans                   1\n",
      "that.Here's                  1\n",
      "Treasure                     1\n",
      "Deacon                       1\n",
      "KIM                          1\n",
      "unit*Exposed                 1\n",
      "Appliances*Sleek/Hardwood    1\n",
      "EUPPER                       1\n",
      "dtype: int64\n",
      "                                          description  Numbers\n",
      "4   Spacious 1 Bedroom 1 Bathroom in Williamsburg!...        2\n",
      "6   BRAND NEW GUT RENOVATED TRUE 2 BEDROOMFind you...        2\n",
      "9   **FLEX 2 BEDROOM WITH FULL PRESSURIZED WALL**L...        2\n",
      "10  A Brand New 3 Bedroom 1.5 bath ApartmentEnjoy ...        1\n",
      "15  Over-sized Studio w abundant closets. Availabl...        1\n"
     ]
    }
   ],
   "source": [
    "from nltk.corpus import stopwords\n",
    "\n",
    "MFreqOcc = pd.Series(' '.join(df[Header1]).split()).value_counts()[:15]\n",
    "print(MFreqOcc)\n",
    "\n",
    "LFreqOcc = pd.Series(' '.join(df[Header1]).split()).value_counts()[-15:]\n",
    "print(LFreqOcc)\n",
    "\n",
    "Digits = df['Numbers'] = df[Header1].apply(lambda x: len([x for x in x.split() if x.isdigit()]))\n",
    "DCall = df[[Header1,'Numbers']].head()\n",
    "print(DCall)"
   ]
  },
  {
   "cell_type": "code",
   "execution_count": 36,
   "metadata": {
    "hideCode": true
   },
   "outputs": [
    {
     "data": {
      "application/vnd.jupyter.widget-view+json": {
       "model_id": "56b6e73ec724475c84cda85a60790985",
       "version_major": 2,
       "version_minor": 0
      },
      "text/plain": [
       "interactive(children=(FloatSlider(value=75.0, description='percentile_limit', min=50.0, step=0.5), IntSlider(v…"
      ]
     },
     "metadata": {},
     "output_type": "display_data"
    },
    {
     "data": {
      "image/png": "[encoded data removed]",
      "text/plain": [
       "<Figure size 432x288 with 1 Axes>"
      ]
     },
     "metadata": {
      "needs_background": "light"
     },
     "output_type": "display_data"
    }
   ],
   "source": [
    "SW = stopwords.words('english')\n",
    "\n",
    "df['StopWord'] = df[Header1].apply(lambda x: len([x for x in x.split() if x in SW]))\n",
    "df[[Header1,'StopWord']].head()\n",
    "\n",
    "df2 = df[[Header1,'StopWord']]\n",
    "chrs = df[[Header1,'StopWord']]['StopWord']\n",
    "\n",
    "@interact\n",
    "def show_stop_plot(\n",
    "    percentile_limit=(50, 100, 0.5),\n",
    "    bins=(10,50,1),\n",
    "):\n",
    "    lim = np.percentile(chrs, percentile_limit)\n",
    "\n",
    "    adjusted = df2[df2['StopWord']<lim]['StopWord']\n",
    "    \n",
    "    sns.distplot(\n",
    "        adjusted.values, \n",
    "        bins=bins, \n",
    "        kde=True,\n",
    "    )\n",
    "    plt.ylabel('share', fontsize=12)\n",
    "    plt.xlabel('count of stopwords')\n",
    "    plt.show()\n",
    "\n",
    "show_stop_plot(94, 42)"
   ]
  },
  {
   "cell_type": "markdown",
   "metadata": {},
   "source": [
    "In this graph, we can see that most rows contain 0 and 20 stopwords. Stopwords are words such as 'and', 'we', 'my', etc. This falls in line with our expectations."
   ]
  },
  {
   "cell_type": "code",
   "execution_count": 37,
   "metadata": {
    "hideCode": true
   },
   "outputs": [
    {
     "data": {
      "application/vnd.jupyter.widget-view+json": {
       "model_id": "222ccfa7a0fb46ada7a5a10aa7468871",
       "version_major": 2,
       "version_minor": 0
      },
      "text/plain": [
       "interactive(children=(FloatSlider(value=75.0, description='percentile_limit', min=50.0, step=0.5), IntSlider(v…"
      ]
     },
     "metadata": {},
     "output_type": "display_data"
    },
    {
     "data": {
      "image/png": "[encoded data removed]",
      "text/plain": [
       "<Figure size 432x288 with 1 Axes>"
      ]
     },
     "metadata": {
      "needs_background": "light"
     },
     "output_type": "display_data"
    }
   ],
   "source": [
    "##Uppercase count\n",
    "\n",
    "df['Uppercase'] = df[Header1].str.count(r'[A-Z]')\n",
    "df[[Header1,'Uppercase']].head(20)\n",
    "\n",
    "df2 = df[[Header1,'Uppercase']]\n",
    "chrs = df[[Header1,'Uppercase']]['Uppercase']\n",
    "\n",
    "@interact\n",
    "def show_stop_plot(\n",
    "    percentile_limit=(50, 100, 0.5),\n",
    "    bins=(10,50,1),\n",
    "):\n",
    "    lim = np.percentile(chrs, percentile_limit)\n",
    "\n",
    "    adjusted = df2[df2['Uppercase']<lim]['Uppercase']\n",
    "    \n",
    "    sns.distplot(\n",
    "        adjusted.values, \n",
    "        bins=bins, \n",
    "        kde=True,\n",
    "    )\n",
    "    plt.ylabel('share', fontsize=12)\n",
    "    plt.xlabel('count of uppercase')\n",
    "    plt.show()\n",
    "\n",
    "show_stop_plot(94, 42)"
   ]
  },
  {
   "cell_type": "markdown",
   "metadata": {},
   "source": [
    "This graph is showing count of the number of capitals in each row. As you can see, most rows have between 0 and 50 capitals. This falls in line with our expectations as most descriptions are short and to the point."
   ]
  },
  {
   "cell_type": "code",
   "execution_count": 89,
   "metadata": {
    "hidePrompt": true
   },
   "outputs": [
    {
     "data": {
      "text/plain": [
       "(49352, 19)"
      ]
     },
     "execution_count": 89,
     "metadata": {},
     "output_type": "execute_result"
    }
   ],
   "source": [
    "df.shape"
   ]
  },
  {
   "cell_type": "code",
   "execution_count": 90,
   "metadata": {
    "hidePrompt": true
   },
   "outputs": [],
   "source": [
    "df_clean = df[df['price'] < df['price'].quantile(.995)]"
   ]
  },
  {
   "cell_type": "code",
   "execution_count": 91,
   "metadata": {},
   "outputs": [],
   "source": [
    "df_clean2 = df_clean[df_clean['latitude'] < df_clean['latitude'].quantile(.995)]\n",
    "df_clean2 = df_clean[df_clean['latitude'] > df_clean['latitude'].quantile(.001)]"
   ]
  },
  {
   "cell_type": "code",
   "execution_count": 92,
   "metadata": {},
   "outputs": [
    {
     "data": {
      "text/plain": [
       "-70.9846"
      ]
     },
     "execution_count": 92,
     "metadata": {},
     "output_type": "execute_result"
    }
   ],
   "source": [
    "df_clean2['longitude'].max()"
   ]
  },
  {
   "cell_type": "code",
   "execution_count": 93,
   "metadata": {},
   "outputs": [],
   "source": [
    "df_clean3 = df_clean2[\n",
    "        df_clean2.apply(\n",
    "            lambda x: x['street_address']!= '' \\\n",
    "            or x['street_address'] != '0' \\\n",
    "            or x['street_address'] != 0 \\\n",
    "            or x['street_address'] != 0.0, axis = 1\n",
    "        )\n",
    "]\n"
   ]
  },
  {
   "cell_type": "code",
   "execution_count": 94,
   "metadata": {},
   "outputs": [],
   "source": [
    "df_clean4 = df_clean3.drop(columns=['building_id', 'manager_id', 'photos'])"
   ]
  },
  {
   "cell_type": "code",
   "execution_count": 83,
   "metadata": {},
   "outputs": [],
   "source": []
  },
  {
   "cell_type": "code",
   "execution_count": null,
   "metadata": {},
   "outputs": [],
   "source": []
  },
  {
   "cell_type": "code",
   "execution_count": 95,
   "metadata": {},
   "outputs": [],
   "source": [
    "df_clean4.to_json('cleaned_train.json')"
   ]
  },
  {
   "cell_type": "code",
   "execution_count": 96,
   "metadata": {},
   "outputs": [
    {
     "name": "stdout",
     "output_type": "stream",
     "text": [
      "classifiers_svm.ipynb\t\t images_sample\trequirements.txt\r\n",
      "cleaned_train.json\t\t LICENSE\ttrain.json\r\n",
      "exploratory-data-analysis.ipynb  README.md\r\n"
     ]
    }
   ],
   "source": [
    "!ls"
   ]
  },
  {
   "cell_type": "code",
   "execution_count": 97,
   "metadata": {},
   "outputs": [],
   "source": [
    "totally_new_df = pd.read_json('cleaned_train.json')"
   ]
  },
  {
   "cell_type": "code",
   "execution_count": null,
   "metadata": {},
   "outputs": [],
   "source": []
  },
  {
   "cell_type": "code",
   "execution_count": null,
   "metadata": {},
   "outputs": [],
   "source": []
  }
 ],
 "metadata": {
  "celltoolbar": "Hide code",
  "kernelspec": {
   "display_name": "Python 3",
   "language": "python",
   "name": "python3"
  },
  "language_info": {
   "codemirror_mode": {
    "name": "ipython",
    "version": 3
   },
   "file_extension": ".py",
   "mimetype": "text/x-python",
   "name": "python",
   "nbconvert_exporter": "python",
   "pygments_lexer": "ipython3",
   "version": "3.8.1"
  }
 },
 "nbformat": 4,
 "nbformat_minor": 4
}
