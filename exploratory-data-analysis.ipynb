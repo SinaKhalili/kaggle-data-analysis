{
 "cells": [
  {
   "cell_type": "code",
   "execution_count": 134,
   "metadata": {},
   "outputs": [],
   "source": [
    "import numpy as np\n",
    "import pandas as pd\n",
    "import seaborn as sns\n",
    "import matplotlib.pyplot as plt\n",
    "\n",
    "# These libraries allow interaction\n",
    "import ipywidgets as widgets\n",
    "from ipywidgets import interact, interact_manual\n",
    "\n",
    "# Allow viewing plots in jupyter\n",
    "%matplotlib inline"
   ]
  },
  {
   "cell_type": "markdown",
   "metadata": {},
   "source": [
    "## Check out the README for usage but quickly\n",
    "\n",
    "* The requirements are in `requirements.txt` \n",
    "  * Install with `pip install -r requirements.txt`\n",
    "* The dataset is [the two sigman connect rental](https://www.kaggle.com/c/two-sigma-connect-rental-listing-inquiries/data)\n",
    "  * Install it with the [kaggle api](https://github.com/Kaggle/kaggle-api) \n",
    "  * `kaggle competitions download -c two-sigma-connect-rental-listing-inquiries` at the root of the project\n",
    "  * `unzip two-sigma-connect-rental-listing-inquiries.zip`\n",
    "  * `unzip train.json.zip`"
   ]
  },
  {
   "cell_type": "code",
   "execution_count": 135,
   "metadata": {},
   "outputs": [],
   "source": [
    "df = pd.read_json('./train.json')"
   ]
  },
  {
   "cell_type": "code",
   "execution_count": 136,
   "metadata": {},
   "outputs": [
    {
     "data": {
      "text/plain": [
       "(49352, 15)"
      ]
     },
     "execution_count": 136,
     "metadata": {},
     "output_type": "execute_result"
    }
   ],
   "source": [
    "df.shape"
   ]
  },
  {
   "cell_type": "code",
   "execution_count": 137,
   "metadata": {
    "scrolled": true
   },
   "outputs": [
    {
     "data": {
      "text/html": [
       "<div>\n",
       "<style scoped>\n",
       "    .dataframe tbody tr th:only-of-type {\n",
       "        vertical-align: middle;\n",
       "    }\n",
       "\n",
       "    .dataframe tbody tr th {\n",
       "        vertical-align: top;\n",
       "    }\n",
       "\n",
       "    .dataframe thead th {\n",
       "        text-align: right;\n",
       "    }\n",
       "</style>\n",
       "<table border=\"1\" class=\"dataframe\">\n",
       "  <thead>\n",
       "    <tr style=\"text-align: right;\">\n",
       "      <th></th>\n",
       "      <th>bathrooms</th>\n",
       "      <th>bedrooms</th>\n",
       "      <th>building_id</th>\n",
       "      <th>created</th>\n",
       "      <th>description</th>\n",
       "      <th>display_address</th>\n",
       "      <th>features</th>\n",
       "      <th>latitude</th>\n",
       "      <th>listing_id</th>\n",
       "      <th>longitude</th>\n",
       "      <th>manager_id</th>\n",
       "      <th>photos</th>\n",
       "      <th>price</th>\n",
       "      <th>street_address</th>\n",
       "      <th>interest_level</th>\n",
       "    </tr>\n",
       "  </thead>\n",
       "  <tbody>\n",
       "    <tr>\n",
       "      <th>4</th>\n",
       "      <td>1.0</td>\n",
       "      <td>1</td>\n",
       "      <td>8579a0b0d54db803821a35a4a615e97a</td>\n",
       "      <td>2016-06-16 05:55:27</td>\n",
       "      <td>Spacious 1 Bedroom 1 Bathroom in Williamsburg!...</td>\n",
       "      <td>145 Borinquen Place</td>\n",
       "      <td>[Dining Room, Pre-War, Laundry in Building, Di...</td>\n",
       "      <td>40.7108</td>\n",
       "      <td>7170325</td>\n",
       "      <td>-73.9539</td>\n",
       "      <td>a10db4590843d78c784171a107bdacb4</td>\n",
       "      <td>[https://photos.renthop.com/2/7170325_3bb5ac84...</td>\n",
       "      <td>2400</td>\n",
       "      <td>145 Borinquen Place</td>\n",
       "      <td>medium</td>\n",
       "    </tr>\n",
       "  </tbody>\n",
       "</table>\n",
       "</div>"
      ],
      "text/plain": [
       "   bathrooms  bedrooms                       building_id              created  \\\n",
       "4        1.0         1  8579a0b0d54db803821a35a4a615e97a  2016-06-16 05:55:27   \n",
       "\n",
       "                                         description      display_address  \\\n",
       "4  Spacious 1 Bedroom 1 Bathroom in Williamsburg!...  145 Borinquen Place   \n",
       "\n",
       "                                            features  latitude  listing_id  \\\n",
       "4  [Dining Room, Pre-War, Laundry in Building, Di...   40.7108     7170325   \n",
       "\n",
       "   longitude                        manager_id  \\\n",
       "4   -73.9539  a10db4590843d78c784171a107bdacb4   \n",
       "\n",
       "                                              photos  price  \\\n",
       "4  [https://photos.renthop.com/2/7170325_3bb5ac84...   2400   \n",
       "\n",
       "        street_address interest_level  \n",
       "4  145 Borinquen Place         medium  "
      ]
     },
     "execution_count": 137,
     "metadata": {},
     "output_type": "execute_result"
    }
   ],
   "source": [
    "df.head(1) # Quite a a verbose output"
   ]
  },
  {
   "cell_type": "code",
   "execution_count": 138,
   "metadata": {},
   "outputs": [
    {
     "data": {
      "text/plain": [
       "low       34284\n",
       "medium    11229\n",
       "high       3839\n",
       "Name: interest_level, dtype: int64"
      ]
     },
     "execution_count": 138,
     "metadata": {},
     "output_type": "execute_result"
    }
   ],
   "source": [
    "df['interest_level'].value_counts()"
   ]
  },
  {
   "cell_type": "code",
   "execution_count": 139,
   "metadata": {},
   "outputs": [
    {
     "data": {
      "text/plain": [
       "(4490000, 43)"
      ]
     },
     "execution_count": 139,
     "metadata": {},
     "output_type": "execute_result"
    }
   ],
   "source": [
    "df['price'].max(), df['price'].min() # 43 dollars!"
   ]
  },
  {
   "cell_type": "markdown",
   "metadata": {},
   "source": [
    "We begin by reading in the data, and reading some basic information about it.\n",
    "\n",
    "We learn that the data: \n",
    " * Has ~49,000 rows with 15 columns\n",
    "   * 14 features, and the class `interest_level` that we must predict\n",
    " * The `interest_level` class has three possible values:\n",
    "   * `low`, `medium`, and `high`\n",
    " * Maximum and minimum prices are 4.9 million dollars and 43 dollars respectively\n",
    "   * As much as a broke student such as myself would love to believe in the 43 dollar listing, this is probably an error "
   ]
  },
  {
   "cell_type": "markdown",
   "metadata": {},
   "source": [
    "Let's visualize those target variables 👀 :"
   ]
  },
  {
   "cell_type": "code",
   "execution_count": 141,
   "metadata": {},
   "outputs": [
    {
     "data": {
      "text/plain": [
       "low       0.694683\n",
       "medium    0.227529\n",
       "high      0.077788\n",
       "Name: interest_level, dtype: float64"
      ]
     },
     "execution_count": 141,
     "metadata": {},
     "output_type": "execute_result"
    },
    {
     "data": {
      "image/png": "[encoded data removed]",
      "text/plain": [
       "<Figure size 432x288 with 1 Axes>"
      ]
     },
     "metadata": {
      "needs_background": "light"
     },
     "output_type": "display_data"
    }
   ],
   "source": [
    "plt.ylabel('count', fontsize=12)\n",
    "plt.xlabel('interest category', fontsize=12)\n",
    "df['interest_level'].value_counts().plot(kind=\"bar\");\n",
    "df['interest_level'].value_counts(normalize=True)"
   ]
  },
  {
   "cell_type": "markdown",
   "metadata": {},
   "source": [
    "We can see clearly there are many low-interest listings, and it slowly tapers off with very few high interest listings. Proportion percentages are shown on top."
   ]
  },
  {
   "cell_type": "markdown",
   "metadata": {},
   "source": [
    "We will now convert the data types in order to parse them correctly (such as dates)"
   ]
  },
  {
   "cell_type": "code",
   "execution_count": 142,
   "metadata": {},
   "outputs": [],
   "source": [
    "df['created'] = pd.to_datetime(df['created'])"
   ]
  },
  {
   "cell_type": "markdown",
   "metadata": {},
   "source": [
    "We can now do some analysis on the properties of this dataframe.\n",
    "\n",
    "For example, we will plot the \n",
    "\n",
    "### Hour-wise listing counts: \n",
    "\n",
    "**Note** this is an _interactive_ function and will not render on github. Run the notebook locally instead. Use the dropdown to view the different types of plots."
   ]
  },
  {
   "cell_type": "code",
   "execution_count": 143,
   "metadata": {},
   "outputs": [
    {
     "data": {
      "application/vnd.jupyter.widget-view+json": {
       "model_id": "e6386274f6b44cb096c420fae86efe26",
       "version_major": 2,
       "version_minor": 0
      },
      "text/plain": [
       "interactive(children=(Dropdown(description='kind', options=('line', 'bar'), value='line'), Output()), _dom_cla…"
      ]
     },
     "metadata": {},
     "output_type": "display_data"
    }
   ],
   "source": [
    "hours = df['created'].groupby(\n",
    "    df[\"created\"].dt.hour\n",
    ").count()\n",
    "\n",
    "@interact\n",
    "def show_hour_plot(kind=['line', 'bar']):\n",
    "    plt.ylabel('count', fontsize=12)\n",
    "    hours.plot(kind=kind);"
   ]
  },
  {
   "cell_type": "code",
   "execution_count": 144,
   "metadata": {},
   "outputs": [
    {
     "data": {
      "text/plain": [
       "created\n",
       "2    10596\n",
       "3     8318\n",
       "5     7954\n",
       "1     5749\n",
       "4     5021\n",
       "Name: created, dtype: int64"
      ]
     },
     "execution_count": 144,
     "metadata": {},
     "output_type": "execute_result"
    }
   ],
   "source": [
    "hours.nlargest(5)"
   ]
  },
  {
   "cell_type": "markdown",
   "metadata": {},
   "source": [
    "As we can see, the top times are ~1am-7am. Perhaps people are updating then because there is less traffic. Or maybe scripts are running which update at that time. Or perhaps the postings are being made by employees outside of the New York timezone. "
   ]
  },
  {
   "cell_type": "markdown",
   "metadata": {},
   "source": [
    "Next, we observe the\n",
    "### 💸 Price 💸"
   ]
  },
  {
   "cell_type": "code",
   "execution_count": 145,
   "metadata": {},
   "outputs": [
    {
     "data": {
      "image/png": "[encoded data removed]",
      "text/plain": [
       "<Figure size 432x288 with 1 Axes>"
      ]
     },
     "metadata": {
      "needs_background": "light"
     },
     "output_type": "display_data"
    }
   ],
   "source": [
    "prices = df['price'].groupby(\n",
    "    pd.cut(df['price'], 20)\n",
    ").count() \n",
    "\n",
    "prices.plot();"
   ]
  },
  {
   "cell_type": "markdown",
   "metadata": {},
   "source": [
    "We notice that the outliers are intrusive in this case and it would benefit us to remove them. To do this, we will remove the top percentile of some values."
   ]
  },
  {
   "cell_type": "code",
   "execution_count": 146,
   "metadata": {},
   "outputs": [
    {
     "data": {
      "application/vnd.jupyter.widget-view+json": {
       "model_id": "c562f72d8dfc45ee8685f56e93351007",
       "version_major": 2,
       "version_minor": 0
      },
      "text/plain": [
       "interactive(children=(Dropdown(description='kind', options=('line', 'bar', 'barh', 'area'), value='line'), Flo…"
      ]
     },
     "metadata": {},
     "output_type": "display_data"
    }
   ],
   "source": [
    "@interact\n",
    "def show_price_plot(\n",
    "    kind=['line', 'bar', 'barh', 'area'],\n",
    "    percentile_limit=(50, 100, 0.5),\n",
    "    bins=(10,50,1),\n",
    "):\n",
    "    lim = np.percentile(df['price'].values, percentile_limit)\n",
    "    lost_data = df[df['price']>lim].shape[0]\n",
    "\n",
    "    adjusted_prices = df[df['price']<lim]['price']\n",
    "    prices = adjusted_prices.groupby(\n",
    "        pd.cut(adjusted_prices, bins)\n",
    "    ).count() \n",
    "    \n",
    "    xticks = [\n",
    "        prices.index[i].right for i in range(0,len(prices))\n",
    "    ]\n",
    "    plt.ylabel('count', fontsize=12)\n",
    "    prices.plot(\n",
    "        kind=kind, grid=True\n",
    "    ).set_xticklabels(xticks);"
   ]
  },
  {
   "cell_type": "code",
   "execution_count": 157,
   "metadata": {},
   "outputs": [
    {
     "data": {
      "image/png": "[encoded data removed]",
      "text/plain": [
       "<Figure size 432x288 with 1 Axes>"
      ]
     },
     "metadata": {
      "needs_background": "light"
     },
     "output_type": "display_data"
    }
   ],
   "source": [
    "show_price_plot(kind='line', percentile_limit=99.5, bins=35)"
   ]
  },
  {
   "cell_type": "markdown",
   "metadata": {},
   "source": [
    "Notice as we drag the percentiles higher (without hitting 100) the graph becomes more and more left-skewed. This shows us almost all the values are in the 2000-6000 dollar range. We find that 20 bins on the bar graph will achieve a good visualization.\n",
    "\n",
    "Some might find the distribution histogram plot more engaging: "
   ]
  },
  {
   "cell_type": "code",
   "execution_count": 148,
   "metadata": {},
   "outputs": [
    {
     "data": {
      "application/vnd.jupyter.widget-view+json": {
       "model_id": "8a4e43623a3642d0aefc8f2e474b6432",
       "version_major": 2,
       "version_minor": 0
      },
      "text/plain": [
       "interactive(children=(Dropdown(description='kind', options=('line', 'bar', 'barh', 'area'), value='line'), Flo…"
      ]
     },
     "metadata": {},
     "output_type": "display_data"
    }
   ],
   "source": [
    "@interact\n",
    "def show_price_plot2(\n",
    "    kind=['line', 'bar', 'barh', 'area'],\n",
    "    percentile_limit=(50, 100, 0.5),\n",
    "    bins=(10,50,1),\n",
    "):\n",
    "    lim = np.percentile(df['price'].values, percentile_limit)\n",
    "\n",
    "    adjusted_prices = df[df['price']<lim]['price']\n",
    "    \n",
    "    sns.distplot(\n",
    "        adjusted_prices.values, \n",
    "        bins=bins, \n",
    "        kde=True,\n",
    "    )\n",
    "    plt.ylabel('share', fontsize=12)\n",
    "    plt.show()"
   ]
  },
  {
   "cell_type": "code",
   "execution_count": 149,
   "metadata": {
    "scrolled": true
   },
   "outputs": [
    {
     "data": {
      "image/png": "[encoded data removed]",
      "text/plain": [
       "<Figure size 432x288 with 1 Axes>"
      ]
     },
     "metadata": {
      "needs_background": "light"
     },
     "output_type": "display_data"
    }
   ],
   "source": [
    "show_price_plot2(kind='line', percentile_limit=99.5, bins=30)"
   ]
  },
  {
   "cell_type": "markdown",
   "metadata": {},
   "source": [
    "# Longitude and Lattitude\n",
    "\n",
    "We will give these columns a similar treatment, allowing the choice between types of graph. Use the dropdowns for your options. We have provided the graphs as well for after for the pdf version of this report."
   ]
  },
  {
   "cell_type": "code",
   "execution_count": 150,
   "metadata": {},
   "outputs": [
    {
     "data": {
      "application/vnd.jupyter.widget-view+json": {
       "model_id": "6fddf68c168b4c47af87779734fd8a34",
       "version_major": 2,
       "version_minor": 0
      },
      "text/plain": [
       "interactive(children=(Dropdown(description='axis', options=('longitude', 'latitude'), value='longitude'), Drop…"
      ]
     },
     "metadata": {},
     "output_type": "display_data"
    }
   ],
   "source": [
    "@interact\n",
    "def show_long_plot1(\n",
    "    axis=['longitude','latitude'],\n",
    "    gtype=['sns','classic'],\n",
    "    kind=['line', 'bar', 'barh', 'area'],\n",
    "    upper_limit=(70, 100, 0.5),\n",
    "    lower_limit=(0, 10, 0.5),\n",
    "    bins=(10,50,1),\n",
    "):\n",
    "    lim = np.percentile(df[axis].values, upper_limit)\n",
    "    low_lim = np.percentile(df[axis].values, lower_limit)\n",
    "    \n",
    "    adjusted = df[df[axis]<lim]\n",
    "    adjusted = adjusted[adjusted[axis] > low_lim][axis]\n",
    "    \n",
    "    if(gtype == \"sns\"):\n",
    "        sns.distplot(\n",
    "            adjusted.values, \n",
    "            bins=bins, \n",
    "            kde=True,\n",
    "        )\n",
    "        plt.ylabel('count', fontsize=12)\n",
    "        plt.show();\n",
    "        \n",
    "    elif(gtype == \"classic\"):\n",
    "        prices = adjusted.groupby(\n",
    "            pd.cut(adjusted, bins)\n",
    "        ).count() \n",
    "\n",
    "        xticks = [\n",
    "            prices.index[i].right for i in range(0,len(prices))\n",
    "        ]\n",
    "        plt.ylabel('share', fontsize=12)\n",
    "        prices.plot(\n",
    "            kind=kind, grid=True\n",
    "        ).set_xticklabels(xticks);\n",
    "        \n"
   ]
  },
  {
   "cell_type": "code",
   "execution_count": 151,
   "metadata": {},
   "outputs": [
    {
     "data": {
      "image/png": "[encoded data removed]",
      "text/plain": [
       "<Figure size 432x288 with 1 Axes>"
      ]
     },
     "metadata": {
      "needs_background": "light"
     },
     "output_type": "display_data"
    }
   ],
   "source": [
    "plot = 'latitude'\n",
    "plt.xlabel(plot)\n",
    "show_long_plot1(plot,'sns','bar',99.5,0.5,40)"
   ]
  },
  {
   "cell_type": "markdown",
   "metadata": {},
   "source": [
    "Notice that the values are mostly in the 40-41 range"
   ]
  },
  {
   "cell_type": "code",
   "execution_count": 152,
   "metadata": {},
   "outputs": [
    {
     "data": {
      "image/png": "[encoded data removed]",
      "text/plain": [
       "<Figure size 432x288 with 1 Axes>"
      ]
     },
     "metadata": {
      "needs_background": "light"
     },
     "output_type": "display_data"
    }
   ],
   "source": [
    "plot = 'longitude'\n",
    "plt.xlabel(plot)\n",
    "show_long_plot1(plot,'sns','bar',99.5,0.3,40)"
   ]
  },
  {
   "cell_type": "markdown",
   "metadata": {},
   "source": [
    "# Conclusion of latitude and longitude\n",
    "\n",
    "The values are in the -73 to -74 range, and the 40-41 range.\n",
    "\n",
    "After [some searching](https://www.latlong.net/place/new-york-city-ny-usa-1848.html) we realize these values belong to New York City.\n",
    "\n",
    "Also of note when playing with the interactive plots we created, we realized that the graph varies drastically when the percentile of included data reaches 100 compared to 99.6. This gives us insight into the fact of the amount of outliers within this dataset. We analyze these outliers more later in this report but in essence after viewing the graph skew, we've decided to remove the top 0.3% off the top and 0.2% off the bottom. This loses less than 1 percent of the data but perserves the essence of the graph (i.e. the same general shape of the graph it would look like with, say 25% off the top and bottom).\n",
    "\n",
    "We highly encourage readers of this document to use the interactive plots by cloning the [repo](https://github.com/SinaKhalili/kaggle-data-analysis) and running the notebook locally."
   ]
  },
  {
   "cell_type": "markdown",
   "metadata": {},
   "source": [
    "This concludes our data exploration phase, though we did look at other things in the dataset such bedroom distribution and other numerical attributes."
   ]
  },
  {
   "cell_type": "markdown",
   "metadata": {},
   "source": [
    "## Outliers\n",
    "\n",
    "We now analyze the outliers more thoroughly. We provide a function to view the number of data points lying outside a certain range of percentile. Again, these numbers were decided by viewing the graphs.\n",
    "\n",
    "The graphs are then provided after the numbers."
   ]
  },
  {
   "cell_type": "code",
   "execution_count": 20,
   "metadata": {},
   "outputs": [],
   "source": [
    "def get_num_outliers(o_axis):\n",
    "    o_upper_limit = 99.95\n",
    "    o_lower_limit = 0.03\n",
    "    o_lim = np.percentile(df[o_axis].values, o_upper_limit)\n",
    "    o_low_lim = np.percentile(df[o_axis].values, o_lower_limit)\n",
    "    o_loss = df[df[o_axis] > o_lim][o_axis].count()\n",
    "    o_loss_2 = df[df[o_axis] < o_low_lim][o_axis].count()\n",
    "    return o_loss + o_loss_2"
   ]
  },
  {
   "cell_type": "code",
   "execution_count": 132,
   "metadata": {},
   "outputs": [
    {
     "name": "stdout",
     "output_type": "stream",
     "text": [
      "Number of outliers is 40 in latitude\n",
      "Number of outliers is 40 in longitude\n",
      "Number of outliers is 40 in price\n"
     ]
    }
   ],
   "source": [
    "outlier_aggregate = {}\n",
    "#Take out bedroom and bathrooms because we do not consider them to be outliers.\n",
    "for cat in ['latitude', 'longitude','price']:\n",
    "    print(f\"Number of outliers is {get_num_outliers(cat)} in {cat}\")\n",
    "    outlier_aggregate[cat] = get_num_outliers(cat)"
   ]
  },
  {
   "cell_type": "code",
   "execution_count": 116,
   "metadata": {},
   "outputs": [
    {
     "data": {
      "image/png": "[encoded data removed]",
      "text/plain": [
       "<Figure size 432x288 with 1 Axes>"
      ]
     },
     "metadata": {
      "needs_background": "light"
     },
     "output_type": "display_data"
    }
   ],
   "source": [
    "plot = 'latitude'\n",
    "plt.xlabel(plot)\n",
    "plt.title(\"Latitude Distribution\")\n",
    "show_long_plot1(plot,'sns','bar',100,0.5,40)"
   ]
  },
  {
   "cell_type": "code",
   "execution_count": 160,
   "metadata": {},
   "outputs": [
    {
     "data": {
      "image/png": "[encoded data removed]",
      "text/plain": [
       "<Figure size 432x288 with 1 Axes>"
      ]
     },
     "metadata": {
      "needs_background": "light"
     },
     "output_type": "display_data"
    }
   ],
   "source": [
    "plot = 'longitude'\n",
    "plt.xlabel(plot)\n",
    "plt.title(\"Longitude Distribution\")\n",
    "show_long_plot1(plot,'sns','bar',100,0.5,40)"
   ]
  },
  {
   "cell_type": "code",
   "execution_count": 161,
   "metadata": {},
   "outputs": [
    {
     "data": {
      "image/png": "[encoded data removed]",
      "text/plain": [
       "<Figure size 432x288 with 1 Axes>"
      ]
     },
     "metadata": {
      "needs_background": "light"
     },
     "output_type": "display_data"
    }
   ],
   "source": [
    "from scipy.stats import gaussian_kde\n",
    "x = df[\"latitude\"]\n",
    "y = df[\"longitude\"]\n",
    "\n",
    "\n",
    "xy = np.vstack([x,y])\n",
    "z = gaussian_kde(xy)(xy)\n",
    "\n",
    "fig, ax = plt.subplots()\n",
    "ax.scatter(x, y, c=z, s=100, edgecolor='')\n",
    "plt.show()"
   ]
  },
  {
   "cell_type": "code",
   "execution_count": 129,
   "metadata": {
    "scrolled": true
   },
   "outputs": [
    {
     "data": {
      "image/png": "[encoded data removed]",
      "text/plain": [
       "<Figure size 432x288 with 1 Axes>"
      ]
     },
     "metadata": {
      "needs_background": "light"
     },
     "output_type": "display_data"
    }
   ],
   "source": [
    "PriceBoxWOOL = df.boxplot(column = ['price'], showfliers = True); PriceBoxWOOL;"
   ]
  },
  {
   "cell_type": "markdown",
   "metadata": {},
   "source": [
    "Outliers heavily affect the graph when comparing the price column's boxplots."
   ]
  },
  {
   "cell_type": "code",
   "execution_count": 159,
   "metadata": {},
   "outputs": [
    {
     "data": {
      "image/png": "[encoded data removed]",
      "text/plain": [
       "<Figure size 432x288 with 1 Axes>"
      ]
     },
     "metadata": {
      "needs_background": "light"
     },
     "output_type": "display_data"
    }
   ],
   "source": [
    "PriceBoxWOOL2 = df.boxplot(column = ['price'], showfliers = False); PriceBoxWOOL2;"
   ]
  },
  {
   "cell_type": "code",
   "execution_count": 24,
   "metadata": {
    "scrolled": false
   },
   "outputs": [
    {
     "data": {
      "image/png": "[encoded data removed]",
      "text/plain": [
       "<Figure size 432x288 with 1 Axes>"
      ]
     },
     "metadata": {
      "needs_background": "light"
     },
     "output_type": "display_data"
    }
   ],
   "source": [
    "BedBox = df.boxplot(column = ['bedrooms'], showfliers = True); BedBox;"
   ]
  },
  {
   "cell_type": "code",
   "execution_count": 26,
   "metadata": {},
   "outputs": [
    {
     "data": {
      "image/png": "[encoded data removed]",
      "text/plain": [
       "<Figure size 432x288 with 1 Axes>"
      ]
     },
     "metadata": {
      "needs_background": "light"
     },
     "output_type": "display_data"
    }
   ],
   "source": [
    "BathBoxWOOL = df.boxplot(column = ['bathrooms'], showfliers = True); BathBoxWOOL;"
   ]
  },
  {
   "cell_type": "code",
   "execution_count": 133,
   "metadata": {},
   "outputs": [
    {
     "data": {
      "text/html": [
       "<div>\n",
       "<style scoped>\n",
       "    .dataframe tbody tr th:only-of-type {\n",
       "        vertical-align: middle;\n",
       "    }\n",
       "\n",
       "    .dataframe tbody tr th {\n",
       "        vertical-align: top;\n",
       "    }\n",
       "\n",
       "    .dataframe thead th {\n",
       "        text-align: right;\n",
       "    }\n",
       "</style>\n",
       "<table border=\"1\" class=\"dataframe\">\n",
       "  <thead>\n",
       "    <tr style=\"text-align: right;\">\n",
       "      <th></th>\n",
       "      <th>latitude</th>\n",
       "      <th>longitude</th>\n",
       "      <th>price</th>\n",
       "    </tr>\n",
       "  </thead>\n",
       "  <tbody>\n",
       "    <tr>\n",
       "      <th>Number of Outliers</th>\n",
       "      <td>40</td>\n",
       "      <td>40</td>\n",
       "      <td>40</td>\n",
       "    </tr>\n",
       "  </tbody>\n",
       "</table>\n",
       "</div>"
      ],
      "text/plain": [
       "                    latitude  longitude  price\n",
       "Number of Outliers        40         40     40"
      ]
     },
     "execution_count": 133,
     "metadata": {},
     "output_type": "execute_result"
    }
   ],
   "source": [
    "outlierAggregate = pd.DataFrame(outlier_aggregate,index=['Number of Outliers'])\n",
    "outlierAggregate"
   ]
  },
  {
   "cell_type": "markdown",
   "metadata": {},
   "source": [
    "## Outlier Analysis \n",
    "\n",
    "For most of the attributes, doing outlier analysis is not beneficial. Attributes that have non-numerical datatypes, such as `created`, `description`, `display_address`, `features`, `photos`, `street_address`, `interest_level` do not have a metric to clearly define an outlier with, therefore it does not make sense to include them for our analysis. \n",
    "\n",
    "Attributes with id fields, `building_id`, `listing_id`, `manager_id`, cannot be evaluated as outliers because those fields are deterministically calculated by way of a hashing algorithm.\n",
    "\n",
    "For `bedrooms` and `bathrooms`, we decided against counting these values as outliers. `0-7` and `0-10` for `bedrooms` and `bathrooms` respectively was such a tight range of integer values that we had to be conservative about what we considered as an outlier. We considered the rental listing that had 10 bathrooms as an outlier, but with such a small range of possible values, we decided it was not extreme enough to remove the tuple.\n",
    "\n",
    "For `latitude` and `longitude`, we will remove the outliers. Namely, those in the bottom 0.2% and the top 0.3%, which make up for less than 1.0% of the graph. For the histogram above, removal of the outliers makes the graph more readable without compromising the bulk of the data.\n",
    "\n",
    "For `price`, after looking at its boxplot and histogram above, it is evident that we will remove the outliers. Its range of values is too spread out such that outliers heavily skew the graphs. We will consider all prices greater than `one million` to be outliers because these do not make the 99.5th percentile.\n"
   ]
  },
  {
   "cell_type": "markdown",
   "metadata": {},
   "source": [
    "# Missing values\n"
   ]
  },
  {
   "cell_type": "code",
   "execution_count": 58,
   "metadata": {},
   "outputs": [
    {
     "data": {
      "text/plain": [
       "{'bathrooms': 0,\n",
       " 'bedrooms': 0,\n",
       " 'building_id': 8286,\n",
       " 'created': 0,\n",
       " 'description': 1446,\n",
       " 'display_address': 135,\n",
       " 'features': 0,\n",
       " 'latitude': 12,\n",
       " 'listing_id': 0,\n",
       " 'longitude': 12,\n",
       " 'manager_id': 0,\n",
       " 'photos': 0,\n",
       " 'price': 0,\n",
       " 'street_address': 10,\n",
       " 'interest_level': 0}"
      ]
     },
     "execution_count": 58,
     "metadata": {},
     "output_type": "execute_result"
    }
   ],
   "source": [
    "#applies a function along an axis in the dataframe. \n",
    "#axis = 0 are rows, axis = 1 are columns\n",
    "missing_values = {}\n",
    "for cat in df.columns:\n",
    "    missing_values[cat] = df[\n",
    "        df.apply(lambda x: x[cat]== '' or x[cat] == '0' or x[cat] == 0 or x[cat] == 0.0, axis = 1)\n",
    "    ][cat].count()\n",
    "\n",
    "missing_values['bathrooms'] = df[ df.apply(lambda x: x['bathrooms']== '',axis = 1) ] ['bathrooms'].count()\n",
    "missing_values['bedrooms'] = df[ df.apply(lambda x: x['bedrooms']== '',axis = 1) ] ['bedrooms'].count()\n",
    "\n",
    "missing_values"
   ]
  },
  {
   "cell_type": "code",
   "execution_count": 59,
   "metadata": {},
   "outputs": [
    {
     "data": {
      "text/html": [
       "<div>\n",
       "<style scoped>\n",
       "    .dataframe tbody tr th:only-of-type {\n",
       "        vertical-align: middle;\n",
       "    }\n",
       "\n",
       "    .dataframe tbody tr th {\n",
       "        vertical-align: top;\n",
       "    }\n",
       "\n",
       "    .dataframe thead th {\n",
       "        text-align: right;\n",
       "    }\n",
       "</style>\n",
       "<table border=\"1\" class=\"dataframe\">\n",
       "  <thead>\n",
       "    <tr style=\"text-align: right;\">\n",
       "      <th></th>\n",
       "      <th>bathrooms</th>\n",
       "      <th>bedrooms</th>\n",
       "      <th>building_id</th>\n",
       "      <th>created</th>\n",
       "      <th>description</th>\n",
       "      <th>display_address</th>\n",
       "      <th>features</th>\n",
       "      <th>latitude</th>\n",
       "      <th>listing_id</th>\n",
       "      <th>longitude</th>\n",
       "      <th>manager_id</th>\n",
       "      <th>photos</th>\n",
       "      <th>price</th>\n",
       "      <th>street_address</th>\n",
       "      <th>interest_level</th>\n",
       "    </tr>\n",
       "  </thead>\n",
       "  <tbody>\n",
       "    <tr>\n",
       "      <th>Number of Missing Values</th>\n",
       "      <td>0</td>\n",
       "      <td>0</td>\n",
       "      <td>8286</td>\n",
       "      <td>0</td>\n",
       "      <td>1446</td>\n",
       "      <td>135</td>\n",
       "      <td>0</td>\n",
       "      <td>12</td>\n",
       "      <td>0</td>\n",
       "      <td>12</td>\n",
       "      <td>0</td>\n",
       "      <td>0</td>\n",
       "      <td>0</td>\n",
       "      <td>10</td>\n",
       "      <td>0</td>\n",
       "    </tr>\n",
       "  </tbody>\n",
       "</table>\n",
       "</div>"
      ],
      "text/plain": [
       "                          bathrooms  bedrooms  building_id  created  \\\n",
       "Number of Missing Values          0         0         8286        0   \n",
       "\n",
       "                          description  display_address  features  latitude  \\\n",
       "Number of Missing Values         1446              135         0        12   \n",
       "\n",
       "                          listing_id  longitude  manager_id  photos  price  \\\n",
       "Number of Missing Values           0         12           0       0      0   \n",
       "\n",
       "                          street_address  interest_level  \n",
       "Number of Missing Values              10               0  "
      ]
     },
     "execution_count": 59,
     "metadata": {},
     "output_type": "execute_result"
    }
   ],
   "source": [
    "missingValues = pd.DataFrame(missing_values,index=['Number of Missing Values'])\n",
    "missingValues"
   ]
  },
  {
   "cell_type": "markdown",
   "metadata": {},
   "source": [
    "## Discussion and plan to deal with the missing values\n",
    " * We have chosen not to interpret the number `0` as a missing value for the `bedroom` and `bathroom` categories, as it is entirely possible to have a listing with `0` as a value. For instance, no bedroom, but you sleep on the couch.\n",
    " * For the rest of the columns we look to see if it falls into a few cases of malformed or missing datum. We noticed there were no explicit `None` values.\n",
    " * Also of note is the `building_id` is the most frequently missing value, however this is inconsequential to our analysis, as it contains no relevant information for this analysis. We can safely drop this whole column, so the missing values don't impact this decision.\n",
    " * Regarding `description`, we will deal with the missing values by averaging the values from the feature extraction. Compared to the number of total entries, it is a relatively miniscule amount of entries but the text data that it provides is useful for our text data feature extraction, so we will keep them.\n",
    " * The `display_address` *could also be derived from the `street_address`* (simply by removing the unit number). \n",
    " * The `latitude` and `longitude` *could be derived from the address*, given that it exists. In the case that **both** the address and the longitude-latitude do not exist, we can safely drop the row, as the number of such cases make up less than 0.01 percent of the dataset, an inconsequential number. \n",
    " * In the case that the `street_address` is also missing, we will eliminate the row. These cases also align with the cases described above and in the end will lose again less than 0.01 percent of the data, which we consider an inconsequential sum.\n",
    " "
   ]
  },
  {
   "cell_type": "code",
   "execution_count": null,
   "metadata": {},
   "outputs": [],
   "source": []
  }
 ],
 "metadata": {
  "kernelspec": {
   "display_name": "Python 3",
   "language": "python",
   "name": "python3"
  },
  "language_info": {
   "codemirror_mode": {
    "name": "ipython",
    "version": 3
   },
   "file_extension": ".py",
   "mimetype": "text/x-python",
   "name": "python",
   "nbconvert_exporter": "python",
   "pygments_lexer": "ipython3",
   "version": "3.7.4"
  }
 },
 "nbformat": 4,
 "nbformat_minor": 4
}
